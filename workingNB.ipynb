{
 "cells": [
  {
   "cell_type": "code",
   "execution_count": 1,
   "id": "f46d3a10",
   "metadata": {},
   "outputs": [],
   "source": [
    "from datetime import date\n",
    "import pandas as pd\n",
    "import nselib\n",
    "from nselib import capital_market\n",
    "from sqlalchemy import create_engine\n",
    "import numpy as np\n",
    "import os\n"
   ]
  },
  {
   "cell_type": "code",
   "execution_count": 2,
   "id": "6b9a2acf",
   "metadata": {},
   "outputs": [],
   "source": [
    "import duckdb\n",
    "\n",
    "motherduck_token = os.getenv(\"MOTHERDUCK_TOKEN\")\n",
    "con = duckdb.connect(f\"md:?motherduck_token={motherduck_token}\")"
   ]
  },
  {
   "cell_type": "code",
   "execution_count": 3,
   "id": "b8c2aee0",
   "metadata": {},
   "outputs": [
    {
     "data": {
      "text/html": [
       "<div>\n",
       "<style scoped>\n",
       "    .dataframe tbody tr th:only-of-type {\n",
       "        vertical-align: middle;\n",
       "    }\n",
       "\n",
       "    .dataframe tbody tr th {\n",
       "        vertical-align: top;\n",
       "    }\n",
       "\n",
       "    .dataframe thead th {\n",
       "        text-align: right;\n",
       "    }\n",
       "</style>\n",
       "<table border=\"1\" class=\"dataframe\">\n",
       "  <thead>\n",
       "    <tr style=\"text-align: right;\">\n",
       "      <th></th>\n",
       "      <th>date1</th>\n",
       "      <th>count_star()</th>\n",
       "    </tr>\n",
       "  </thead>\n",
       "  <tbody>\n",
       "    <tr>\n",
       "      <th>0</th>\n",
       "      <td>2025-09-23</td>\n",
       "      <td>2982</td>\n",
       "    </tr>\n",
       "    <tr>\n",
       "      <th>1</th>\n",
       "      <td>2025-09-22</td>\n",
       "      <td>3039</td>\n",
       "    </tr>\n",
       "    <tr>\n",
       "      <th>2</th>\n",
       "      <td>2025-09-19</td>\n",
       "      <td>2979</td>\n",
       "    </tr>\n",
       "    <tr>\n",
       "      <th>3</th>\n",
       "      <td>2025-09-18</td>\n",
       "      <td>2984</td>\n",
       "    </tr>\n",
       "    <tr>\n",
       "      <th>4</th>\n",
       "      <td>2025-09-17</td>\n",
       "      <td>3007</td>\n",
       "    </tr>\n",
       "    <tr>\n",
       "      <th>...</th>\n",
       "      <td>...</td>\n",
       "      <td>...</td>\n",
       "    </tr>\n",
       "    <tr>\n",
       "      <th>1162</th>\n",
       "      <td>2021-01-07</td>\n",
       "      <td>2017</td>\n",
       "    </tr>\n",
       "    <tr>\n",
       "      <th>1163</th>\n",
       "      <td>2021-01-06</td>\n",
       "      <td>2040</td>\n",
       "    </tr>\n",
       "    <tr>\n",
       "      <th>1164</th>\n",
       "      <td>2021-01-05</td>\n",
       "      <td>2049</td>\n",
       "    </tr>\n",
       "    <tr>\n",
       "      <th>1165</th>\n",
       "      <td>2021-01-04</td>\n",
       "      <td>2055</td>\n",
       "    </tr>\n",
       "    <tr>\n",
       "      <th>1166</th>\n",
       "      <td>2021-01-01</td>\n",
       "      <td>1993</td>\n",
       "    </tr>\n",
       "  </tbody>\n",
       "</table>\n",
       "<p>1167 rows × 2 columns</p>\n",
       "</div>"
      ],
      "text/plain": [
       "          date1  count_star()\n",
       "0    2025-09-23          2982\n",
       "1    2025-09-22          3039\n",
       "2    2025-09-19          2979\n",
       "3    2025-09-18          2984\n",
       "4    2025-09-17          3007\n",
       "...         ...           ...\n",
       "1162 2021-01-07          2017\n",
       "1163 2021-01-06          2040\n",
       "1164 2021-01-05          2049\n",
       "1165 2021-01-04          2055\n",
       "1166 2021-01-01          1993\n",
       "\n",
       "[1167 rows x 2 columns]"
      ]
     },
     "execution_count": 3,
     "metadata": {},
     "output_type": "execute_result"
    }
   ],
   "source": [
    "con.sql(\"SELECT date1,count(*) from daily_nse_price group by date1 order by date1 desc\").df()"
   ]
  },
  {
   "cell_type": "code",
   "execution_count": 4,
   "id": "b968c478",
   "metadata": {},
   "outputs": [],
   "source": [
    "allstocks= pd.read_excel(\"data/allstocks.xlsx\")"
   ]
  },
  {
   "cell_type": "code",
   "execution_count": 5,
   "id": "053e1142",
   "metadata": {},
   "outputs": [],
   "source": [
    "NSE_ISIN = pd.read_csv(\"data/NSE_ISIN.csv\")\n",
    "NSE_ISIN.columns = NSE_ISIN.columns.str.strip()"
   ]
  },
  {
   "cell_type": "code",
   "execution_count": 6,
   "id": "fed210ec",
   "metadata": {},
   "outputs": [],
   "source": [
    "df = con.sql(\"SELECT symbol as 'Ticker', date1 as 'Date', open_price as 'Open', high_price as 'High',low_price as 'Low',close_price as 'Close', deliv_qty as 'Volume' FROM daily_nse_price where series = 'EQ' and date1 > '2025-01-01'\").df()\n",
    "\n",
    "df[\"Volume\"] = df[\"Volume\"].astype(float)"
   ]
  },
  {
   "cell_type": "code",
   "execution_count": 7,
   "id": "f6b8bba7",
   "metadata": {},
   "outputs": [],
   "source": [
    "def weekly_supertrend_daily(df, atr_period=10, multiplier=3):\n",
    "    \"\"\"\n",
    "    df: DataFrame with ['Ticker','Date','Open','High','Low','Close']\n",
    "    Returns df with 'SuperTrend' and 'Trend' columns applied to daily rows, based on weekly ATR\n",
    "    \"\"\"\n",
    "    df = df.copy()\n",
    "    df['Date'] = pd.to_datetime(df['Date'])\n",
    "    df = df.sort_values(['Ticker','Date'])\n",
    "\n",
    "    result_list = []\n",
    "\n",
    "    for ticker, group in df.groupby('Ticker'):\n",
    "        # Resample weekly to get High, Low, Close for SuperTrend calculation\n",
    "        weekly = group.resample('W-FRI', on='Date').agg({\n",
    "            'High':'max',\n",
    "            'Low':'min',\n",
    "            'Close':'last'\n",
    "        }).sort_index()\n",
    "\n",
    "        # Calculate weekly ATR\n",
    "        weekly['H-L'] = weekly['High'] - weekly['Low']\n",
    "        weekly['H-Cp'] = abs(weekly['High'] - weekly['Close'].shift())\n",
    "        weekly['L-Cp'] = abs(weekly['Low'] - weekly['Close'].shift())\n",
    "        weekly['TR'] = weekly[['H-L','H-Cp','L-Cp']].max(axis=1)\n",
    "        weekly['ATR'] = weekly['TR'].rolling(atr_period, min_periods=1).mean()\n",
    "\n",
    "        # Basic bands\n",
    "        weekly['Basic_Up'] = (weekly['High'] + weekly['Low'])/2 + multiplier*weekly['ATR']\n",
    "        weekly['Basic_Down'] = (weekly['High'] + weekly['Low'])/2 - multiplier*weekly['ATR']\n",
    "\n",
    "        # Weekly SuperTrend\n",
    "        weekly['SuperTrend'] = 0.0\n",
    "        for i in range(1,len(weekly)):\n",
    "            prev = weekly.iloc[i-1]\n",
    "            if prev['SuperTrend'] < prev['Close']:\n",
    "                curr_st = max(weekly.iloc[i]['Basic_Down'], prev['SuperTrend'])\n",
    "            else:\n",
    "                curr_st = min(weekly.iloc[i]['Basic_Up'], prev['SuperTrend'])\n",
    "            weekly.at[weekly.index[i], 'SuperTrend'] = curr_st\n",
    "\n",
    "        # ---- 2. Map weekly SuperTrend to daily data ----\n",
    "        group = group.set_index('Date')\n",
    "        group['SuperTrend'] = weekly['SuperTrend'].reindex(group.index, method='ffill')\n",
    "\n",
    "        # ---- 3. Daily Trend based on daily Close vs weekly SuperTrend ----\n",
    "        group['Trend'] = group['Close'] > group['SuperTrend']\n",
    "\n",
    "        group['Ticker'] = ticker\n",
    "        result_list.append(group.reset_index())\n",
    "\n",
    "    return pd.concat(result_list, ignore_index=True)"
   ]
  },
  {
   "cell_type": "code",
   "execution_count": 8,
   "id": "33d792cf",
   "metadata": {},
   "outputs": [],
   "source": [
    "daily_with_weekly_st = weekly_supertrend_daily(df, atr_period=10, multiplier=2)\n"
   ]
  },
  {
   "cell_type": "code",
   "execution_count": 9,
   "id": "cc3c8684",
   "metadata": {},
   "outputs": [],
   "source": [
    "latest_supertrend = daily_with_weekly_st.groupby(\"Ticker\").tail(1)"
   ]
  },
  {
   "cell_type": "code",
   "execution_count": 10,
   "id": "39e47461",
   "metadata": {},
   "outputs": [
    {
     "name": "stdout",
     "output_type": "stream",
     "text": [
      "             Date      Ticker      Open      High       Low     Close  \\\n",
      "170    2025-09-23   20MICRONS    228.50    232.00    225.25    226.24   \n",
      "289    2025-09-23  21STCENMGM     53.39     53.40     51.55     52.87   \n",
      "467    2025-09-23      360ONE   1048.00   1053.30   1015.40   1019.60   \n",
      "645    2025-09-23   3IINFOLTD     24.30     24.60     24.30     24.38   \n",
      "823    2025-09-23     3MINDIA  30000.00  30085.00  29780.00  29835.00   \n",
      "...           ...         ...       ...       ...       ...       ...   \n",
      "367974 2025-09-23        ZOTA   1438.00   1475.00   1412.20   1466.20   \n",
      "368152 2025-09-23       ZUARI    270.95    281.00    268.10    274.20   \n",
      "368330 2025-09-23    ZUARIIND    287.95    331.95    287.95    313.40   \n",
      "368508 2025-09-23   ZYDUSLIFE   1035.50   1048.00   1030.30   1044.85   \n",
      "368686 2025-09-23   ZYDUSWELL    496.30    501.30    471.20    473.80   \n",
      "\n",
      "           Volume    SuperTrend  Trend  \n",
      "170       41932.0    221.788000   True  \n",
      "289        3526.0     59.876000  False  \n",
      "467     1344267.0   1042.350000  False  \n",
      "645      145811.0     22.673333   True  \n",
      "823        2359.0  28425.000000   True  \n",
      "...           ...           ...    ...  \n",
      "367974    29526.0   1225.390000   True  \n",
      "368152   188619.0    300.906000  False  \n",
      "368330   371510.0    280.600000   True  \n",
      "368508   305266.0    952.075000   True  \n",
      "368686   191404.0   2154.310000  False  \n",
      "\n",
      "[2415 rows x 9 columns]\n"
     ]
    }
   ],
   "source": [
    "print(latest_supertrend)"
   ]
  },
  {
   "cell_type": "code",
   "execution_count": 11,
   "id": "88989f33",
   "metadata": {},
   "outputs": [],
   "source": [
    "price_threshold = 0.03\n",
    "volume_threshold = 2.0\n",
    "\n",
    "latest_date = df[\"Date\"].max()"
   ]
  },
  {
   "cell_type": "code",
   "execution_count": 12,
   "id": "553b42a6",
   "metadata": {},
   "outputs": [],
   "source": [
    "results = []\n",
    "\n",
    "for ticker, group in df.groupby(\"Ticker\"):\n",
    "    group = group.sort_values(\"Date\").reset_index(drop=True)\n",
    "\n",
    "    # Calculate daily % price change (Close vs Previous Close)\n",
    "    group[\"Pct_Change\"] = group[\"Close\"].pct_change()\n",
    "\n",
    "    # Calculate rolling average volume (last 20 days)\n",
    "    group[\"Avg_Volume\"] = group[\"Volume\"].rolling(window=20, min_periods=5).mean()\n",
    "\n",
    "    # Signal: price up > threshold & volume > threshold * avg_volume\n",
    "    group[\"Signal\"] = (group[\"Pct_Change\"] > price_threshold) & (group[\"Volume\"] > volume_threshold * group[\"Avg_Volume\"])\n",
    "\n",
    "    results.append(group)\n",
    "\n",
    "result_df = pd.concat(results)\n",
    "\n",
    "signals = result_df[result_df[\"Signal\"]]\n",
    "latest_signals = signals[signals[\"Date\"] == latest_date]"
   ]
  },
  {
   "cell_type": "code",
   "execution_count": 13,
   "id": "a9daed80",
   "metadata": {},
   "outputs": [],
   "source": [
    "latest_signals = latest_signals.merge(\n",
    "    NSE_ISIN[[\"SYMBOL\",\"ISIN NUMBER\"]],\n",
    "    left_on=\"Ticker\",\n",
    "    right_on=\"SYMBOL\",\n",
    "    how=\"inner\"\n",
    ")"
   ]
  },
  {
   "cell_type": "code",
   "execution_count": 14,
   "id": "67ad9e99",
   "metadata": {},
   "outputs": [],
   "source": [
    "latest_signals = pd.merge(\n",
    "    latest_signals,\n",
    "    allstocks,\n",
    "    left_on=\"ISIN NUMBER\",         # column name in latest_signals\n",
    "    right_on=\"ISIN\",     # column name in allstocks\n",
    "    how=\"left\"           # inner join (only matching tickers)\n",
    ")"
   ]
  },
  {
   "cell_type": "code",
   "execution_count": 15,
   "id": "1afacc0b",
   "metadata": {},
   "outputs": [],
   "source": [
    "latest_signals = latest_signals.merge(\n",
    "    latest_supertrend[[\"Ticker\",\"SuperTrend\",\"Trend\"]],\n",
    "    on=\"Ticker\",         # column name in latest_signals\n",
    "    how=\"left\"           # inner join (only matching tickers)\n",
    ")"
   ]
  },
  {
   "cell_type": "code",
   "execution_count": 33,
   "id": "b34e583d",
   "metadata": {},
   "outputs": [
    {
     "data": {
      "text/plain": [
       "(0, 58)"
      ]
     },
     "execution_count": 33,
     "metadata": {},
     "output_type": "execute_result"
    }
   ],
   "source": [
    "filtered.shape"
   ]
  },
  {
   "cell_type": "code",
   "execution_count": 16,
   "id": "fd590e08",
   "metadata": {},
   "outputs": [],
   "source": [
    "filtered = latest_signals[\n",
    "    (latest_signals[\"Market Capitalization\"] > 1000) &\n",
    "    (latest_signals[\"ROCE Annual 3Yr Avg %\"] > 15) &\n",
    "    (latest_signals['Long Term Debt To Equity Annual'] < 0.5) &\n",
    "    (latest_signals['Promoter holding latest %'] > 60) &\n",
    "    (latest_signals['Promoter holding pledge percentage % Qtr'] < 0.01) &\n",
    "    (latest_signals['Net Profit Qtr Growth YoY %'] > 0) &\n",
    "    (latest_signals['Operating Revenue growth TTM %'] > 15) &\n",
    "    (latest_signals['Cash EPS 5Yr Growth %'] > 15) &\n",
    "    (latest_signals['EPS TTM Growth %'] > 15) &\n",
    "    (latest_signals[\"PEG TTM PE to Growth\"] > 0) &\n",
    "    (latest_signals[\"PEG TTM PE to Growth\"] < 2)\n",
    "]"
   ]
  },
  {
   "cell_type": "code",
   "execution_count": 31,
   "id": "9cc0afcf",
   "metadata": {},
   "outputs": [],
   "source": [
    "filtered.to_csv(\"my_data.csv\", index=False)"
   ]
  },
  {
   "cell_type": "code",
   "execution_count": 25,
   "id": "eaa17a49",
   "metadata": {},
   "outputs": [
    {
     "name": "stdout",
     "output_type": "stream",
     "text": [
      "Empty DataFrame\n",
      "Columns: [Stock Name, NSE Code, BSE Code, Stock Code, ISIN, Industry Name, sector_name, Current Price, Current Price.1, Market Capitalization, Trendlyne Durability Score, Trendlyne Valuation Score, Trendlyne Momentum Score, DVM_classification_text, Prev Day Trendlyne Durability Score, Prev Day Trendlyne Valuation Score, Prev Day Trendlyne Momentum Score, Prev Week Trendlyne Durability Score, Prev Week Trendlyne Valuation Score, Prev Week Trendlyne Momentum Score, Prev Month Trendlyne Durability Score, Prev Month Trendlyne Valuation Score, Prev Month Trendlyne Momentum Score, Normalized Momentum Score, Market Capitalization.1, PE TTM Price to Earnings, PEG TTM PE to Growth, Price to Book Value, Operating Revenue TTM, Revenue Growth Qtr YoY %, Operating Revenue growth TTM %, EPS TTM Growth %, Cash EPS 5Yr Growth %, Net Profit Qtr Growth YoY %, ROCE Annual 3Yr Avg %, Operating Profit Margin Qtr %, Operating Profit Margin TTM %, Operating Profit Margin Annual %, Operating Profit Margin Annual 1Yr ago %, Promoter holding latest %, Promoter holding pledge percentage % Qtr, Institutional holding current Qtr %, Total Debt to Total Equity Annual, Long Term Debt To Equity Annual]\n",
      "Index: []\n",
      "\n",
      "[0 rows x 44 columns]\n"
     ]
    }
   ],
   "source": [
    "print(allstocks[allstocks['NSE Code']=='GUJTHEM'])"
   ]
  },
  {
   "cell_type": "code",
   "execution_count": null,
   "id": "e8054996",
   "metadata": {},
   "outputs": [
    {
     "data": {
      "text/plain": [
       "(5693, 44)"
      ]
     },
     "execution_count": 19,
     "metadata": {},
     "output_type": "execute_result"
    }
   ],
   "source": [
    "allstocks.shape"
   ]
  },
  {
   "cell_type": "code",
   "execution_count": 21,
   "id": "bd33fedc",
   "metadata": {},
   "outputs": [],
   "source": [
    "BOT_TOKEN = os.getenv(\"TELEGRAM_BOT_TOKEN\")\n",
    "CHAT_ID = '5798902540'\n",
    "\n",
    "def send_dataframe_via_telegram(df, bot_token, chat_id, caption=\"DataFrame\"):\n",
    "    import matplotlib.pyplot as plt\n",
    "    import requests\n",
    "    \n",
    "    if df.empty:\n",
    "        telegram = requests.post(\n",
    "            f\"https://api.telegram.org/bot{bot_token}/sendMessage\",\n",
    "            data={\"chat_id\": chat_id, \"text\": f\"Nothing in {caption} list today.\"}\n",
    "        )\n",
    "        return telegram.json()\n",
    "    # Render DataFrame as image\n",
    "    fig, ax = plt.subplots(figsize=(6, 0.5 + 0.3*len(df)))  # auto height\n",
    "    ax.axis(\"off\")\n",
    "    table = ax.table(\n",
    "        cellText=df.values,\n",
    "        colLabels=df.columns,\n",
    "        cellLoc=\"center\",\n",
    "        loc=\"center\"\n",
    "    )\n",
    "    table.auto_set_font_size(False)\n",
    "    table.set_fontsize(10)\n",
    "    table.scale(1.2, 1.2)\n",
    "    \n",
    "    filename = \"table.png\"\n",
    "    plt.savefig(filename, bbox_inches=\"tight\")\n",
    "    plt.close()\n",
    "    \n",
    "    # Send to Telegram\n",
    "    url = f\"https://api.telegram.org/bot{bot_token}/sendPhoto\"\n",
    "    with open(filename, \"rb\") as f:\n",
    "        res = requests.post(url, data={\"chat_id\": chat_id, \"caption\": caption}, files={\"photo\": f})\n",
    "    return res.json()"
   ]
  },
  {
   "cell_type": "code",
   "execution_count": 22,
   "id": "e071d704",
   "metadata": {},
   "outputs": [
    {
     "data": {
      "text/plain": [
       "{'ok': True,\n",
       " 'result': {'message_id': 42,\n",
       "  'from': {'id': 7252728340,\n",
       "   'is_bot': True,\n",
       "   'first_name': 'DailyNseDataLoad',\n",
       "   'username': 'DpsStockAnalysis_bot'},\n",
       "  'chat': {'id': 5798902540,\n",
       "   'first_name': 'Daksh',\n",
       "   'last_name': 'Singh',\n",
       "   'type': 'private'},\n",
       "  'date': 1758689264,\n",
       "  'text': 'Nothing in Buy list today.'}}"
      ]
     },
     "execution_count": 22,
     "metadata": {},
     "output_type": "execute_result"
    }
   ],
   "source": [
    "\n",
    "send_dataframe_via_telegram(filtered[[\"Stock Name\"]], BOT_TOKEN, CHAT_ID, \"Buy\")"
   ]
  }
 ],
 "metadata": {
  "kernelspec": {
   "display_name": "Python 3",
   "language": "python",
   "name": "python3"
  },
  "language_info": {
   "codemirror_mode": {
    "name": "ipython",
    "version": 3
   },
   "file_extension": ".py",
   "mimetype": "text/x-python",
   "name": "python",
   "nbconvert_exporter": "python",
   "pygments_lexer": "ipython3",
   "version": "3.11.13"
  }
 },
 "nbformat": 4,
 "nbformat_minor": 5
}
