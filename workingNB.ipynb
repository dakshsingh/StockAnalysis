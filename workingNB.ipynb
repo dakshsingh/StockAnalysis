{
 "cells": [
  {
   "cell_type": "code",
   "execution_count": 1,
   "id": "f46d3a10",
   "metadata": {},
   "outputs": [],
   "source": [
    "from datetime import date\n",
    "import pandas as pd\n",
    "import nselib\n",
    "from nselib import capital_market\n",
    "from sqlalchemy import create_engine\n",
    "import numpy as np\n",
    "import os\n",
    "from growwapi import GrowwAPI\n",
    "import pyotp\n",
    "import duckdb\n",
    "from pandas import json_normalize\n",
    "import time"
   ]
  },
  {
   "cell_type": "code",
   "execution_count": 2,
   "id": "70a6fa15",
   "metadata": {},
   "outputs": [],
   "source": [
    "motherduck_token = os.getenv(\"MOTHERDUCK_TOKEN\")\n",
    "con = duckdb.connect(f\"md:?motherduck_token={motherduck_token}\")"
   ]
  },
  {
   "cell_type": "code",
   "execution_count": 112,
   "id": "a246d3c3",
   "metadata": {},
   "outputs": [],
   "source": [
    "BOT_TOKEN = os.getenv(\"TELEGRAM_BOT_TOKEN\")\n",
    "CHAT_ID = '5798902540'"
   ]
  },
  {
   "cell_type": "code",
   "execution_count": 3,
   "id": "4e4cc2b7",
   "metadata": {},
   "outputs": [
    {
     "name": "stdout",
     "output_type": "stream",
     "text": [
      "Ready to Groww!\n"
     ]
    }
   ],
   "source": [
    "groww_api_key = os.getenv('GROWW_API_KEY')\n",
    "groww_api_secret = os.getenv('GROWW_API_SECRET')\n",
    "totp_gen = pyotp.TOTP(groww_api_secret)\n",
    "totp = totp_gen.now()\n",
    "\n",
    "access_token = GrowwAPI.get_access_token(groww_api_key, totp)\n",
    "groww = GrowwAPI(access_token)"
   ]
  },
  {
   "cell_type": "code",
   "execution_count": 4,
   "id": "51befc4c",
   "metadata": {},
   "outputs": [],
   "source": [
    "instruments_df = groww.get_all_instruments()\n",
    "\n",
    "instruments_priority = instruments_df.copy()\n",
    "instruments_priority['priority'] = instruments_priority['exchange'].apply(lambda x: 1 if x=='NSE' else 2)\n",
    "instruments_unique = instruments_priority.sort_values(['trading_symbol','priority']).drop_duplicates('trading_symbol', keep='first')"
   ]
  },
  {
   "cell_type": "code",
   "execution_count": 11,
   "id": "cc167196",
   "metadata": {},
   "outputs": [],
   "source": [
    "df = con.sql(\"SELECT symbol as 'Ticker', date1 as 'Date', open_price as 'Open', high_price as 'High',low_price as 'Low',close_price as 'Close', deliv_qty as 'Volume' FROM daily_nse_price where series = 'EQ' and date1 > '2025-01-01'\").df()\n",
    "\n",
    "df[\"Volume\"] = df[\"Volume\"].astype(float)"
   ]
  },
  {
   "cell_type": "markdown",
   "id": "7e87e7ac",
   "metadata": {},
   "source": [
    "## Supertrend"
   ]
  },
  {
   "cell_type": "code",
   "execution_count": null,
   "id": "32257fb7",
   "metadata": {},
   "outputs": [],
   "source": [
    "def weekly_supertrend_daily(df, atr_period=10, multiplier=3):\n",
    "    \"\"\"\n",
    "    df: DataFrame with ['Ticker','Date','Open','High','Low','Close']\n",
    "    Returns df with 'SuperTrend' and 'Trend' columns applied to daily rows, based on weekly ATR\n",
    "    \"\"\"\n",
    "    df = df.copy()\n",
    "    df['Date'] = pd.to_datetime(df['Date'])\n",
    "    df = df.sort_values(['Ticker','Date'])\n",
    "\n",
    "    result_list = []\n",
    "\n",
    "    for ticker, group in df.groupby('Ticker'):\n",
    "        # Resample weekly to get High, Low, Close for SuperTrend calculation\n",
    "        weekly = group.resample('W-FRI', on='Date').agg({\n",
    "            'High':'max',\n",
    "            'Low':'min',\n",
    "            'Close':'last'\n",
    "        }).sort_index()\n",
    "\n",
    "        # Calculate weekly ATR\n",
    "        weekly['H-L'] = weekly['High'] - weekly['Low']\n",
    "        weekly['H-Cp'] = abs(weekly['High'] - weekly['Close'].shift())\n",
    "        weekly['L-Cp'] = abs(weekly['Low'] - weekly['Close'].shift())\n",
    "        weekly['TR'] = weekly[['H-L','H-Cp','L-Cp']].max(axis=1)\n",
    "        weekly['ATR'] = weekly['TR'].rolling(atr_period, min_periods=1).mean()\n",
    "\n",
    "        # Basic bands\n",
    "        weekly['Basic_Up'] = (weekly['High'] + weekly['Low'])/2 + multiplier*weekly['ATR']\n",
    "        weekly['Basic_Down'] = (weekly['High'] + weekly['Low'])/2 - multiplier*weekly['ATR']\n",
    "\n",
    "        # Weekly SuperTrend\n",
    "        weekly['SuperTrend'] = 0.0\n",
    "        for i in range(1,len(weekly)):\n",
    "            prev = weekly.iloc[i-1]\n",
    "            if prev['SuperTrend'] < prev['Close']:\n",
    "                curr_st = max(weekly.iloc[i]['Basic_Down'], prev['SuperTrend'])\n",
    "            else:\n",
    "                curr_st = min(weekly.iloc[i]['Basic_Up'], prev['SuperTrend'])\n",
    "            weekly.at[weekly.index[i], 'SuperTrend'] = curr_st\n",
    "\n",
    "        # ---- 2. Map weekly SuperTrend to daily data ----\n",
    "        group = group.set_index('Date')\n",
    "        group['SuperTrend'] = weekly['SuperTrend'].reindex(group.index, method='ffill')\n",
    "\n",
    "        # ---- 3. Daily Trend based on daily Close vs weekly SuperTrend ----\n",
    "        group['Trend'] = group['Close'] > group['SuperTrend']\n",
    "\n",
    "        group['Ticker'] = ticker\n",
    "        result_list.append(group.reset_index())\n",
    "\n",
    "    return pd.concat(result_list, ignore_index=True)"
   ]
  },
  {
   "cell_type": "code",
   "execution_count": null,
   "id": "bdeae29e",
   "metadata": {},
   "outputs": [],
   "source": [
    "daily_with_weekly_st = weekly_supertrend_daily(df, atr_period=10, multiplier=2)"
   ]
  },
  {
   "cell_type": "code",
   "execution_count": null,
   "id": "abc38a26",
   "metadata": {},
   "outputs": [],
   "source": [
    "latest_supertrend = daily_with_weekly_st.groupby(\"Ticker\").tail(1)"
   ]
  },
  {
   "cell_type": "code",
   "execution_count": 78,
   "id": "b7119792",
   "metadata": {},
   "outputs": [
    {
     "data": {
      "text/plain": [
       "<duckdb.duckdb.DuckDBPyConnection at 0x7178f00c0330>"
      ]
     },
     "execution_count": 78,
     "metadata": {},
     "output_type": "execute_result"
    }
   ],
   "source": [
    "con.register(\"latest_supertrend\", latest_supertrend).execute(\"create or replace table latest_supertrend as select * from latest_supertrend\")"
   ]
  },
  {
   "cell_type": "markdown",
   "id": "a43e0ea2",
   "metadata": {},
   "source": [
    "## 📊 Buy list\n",
    "---"
   ]
  },
  {
   "cell_type": "code",
   "execution_count": 5,
   "id": "b8c2aee0",
   "metadata": {},
   "outputs": [
    {
     "data": {
      "text/html": [
       "<div>\n",
       "<style scoped>\n",
       "    .dataframe tbody tr th:only-of-type {\n",
       "        vertical-align: middle;\n",
       "    }\n",
       "\n",
       "    .dataframe tbody tr th {\n",
       "        vertical-align: top;\n",
       "    }\n",
       "\n",
       "    .dataframe thead th {\n",
       "        text-align: right;\n",
       "    }\n",
       "</style>\n",
       "<table border=\"1\" class=\"dataframe\">\n",
       "  <thead>\n",
       "    <tr style=\"text-align: right;\">\n",
       "      <th></th>\n",
       "      <th>date1</th>\n",
       "      <th>count_star()</th>\n",
       "    </tr>\n",
       "  </thead>\n",
       "  <tbody>\n",
       "    <tr>\n",
       "      <th>0</th>\n",
       "      <td>2025-09-25</td>\n",
       "      <td>2980</td>\n",
       "    </tr>\n",
       "    <tr>\n",
       "      <th>1</th>\n",
       "      <td>2025-09-24</td>\n",
       "      <td>2990</td>\n",
       "    </tr>\n",
       "    <tr>\n",
       "      <th>2</th>\n",
       "      <td>2025-09-23</td>\n",
       "      <td>2982</td>\n",
       "    </tr>\n",
       "    <tr>\n",
       "      <th>3</th>\n",
       "      <td>2025-09-22</td>\n",
       "      <td>3039</td>\n",
       "    </tr>\n",
       "    <tr>\n",
       "      <th>4</th>\n",
       "      <td>2025-09-19</td>\n",
       "      <td>2979</td>\n",
       "    </tr>\n",
       "    <tr>\n",
       "      <th>...</th>\n",
       "      <td>...</td>\n",
       "      <td>...</td>\n",
       "    </tr>\n",
       "    <tr>\n",
       "      <th>1164</th>\n",
       "      <td>2021-01-07</td>\n",
       "      <td>2017</td>\n",
       "    </tr>\n",
       "    <tr>\n",
       "      <th>1165</th>\n",
       "      <td>2021-01-06</td>\n",
       "      <td>2040</td>\n",
       "    </tr>\n",
       "    <tr>\n",
       "      <th>1166</th>\n",
       "      <td>2021-01-05</td>\n",
       "      <td>2049</td>\n",
       "    </tr>\n",
       "    <tr>\n",
       "      <th>1167</th>\n",
       "      <td>2021-01-04</td>\n",
       "      <td>2055</td>\n",
       "    </tr>\n",
       "    <tr>\n",
       "      <th>1168</th>\n",
       "      <td>2021-01-01</td>\n",
       "      <td>1993</td>\n",
       "    </tr>\n",
       "  </tbody>\n",
       "</table>\n",
       "<p>1169 rows × 2 columns</p>\n",
       "</div>"
      ],
      "text/plain": [
       "          date1  count_star()\n",
       "0    2025-09-25          2980\n",
       "1    2025-09-24          2990\n",
       "2    2025-09-23          2982\n",
       "3    2025-09-22          3039\n",
       "4    2025-09-19          2979\n",
       "...         ...           ...\n",
       "1164 2021-01-07          2017\n",
       "1165 2021-01-06          2040\n",
       "1166 2021-01-05          2049\n",
       "1167 2021-01-04          2055\n",
       "1168 2021-01-01          1993\n",
       "\n",
       "[1169 rows x 2 columns]"
      ]
     },
     "execution_count": 5,
     "metadata": {},
     "output_type": "execute_result"
    }
   ],
   "source": [
    "con.sql(\"SELECT date1,count(*) from daily_nse_price group by date1 order by date1 desc\").df()"
   ]
  },
  {
   "cell_type": "code",
   "execution_count": 6,
   "id": "b968c478",
   "metadata": {},
   "outputs": [],
   "source": [
    "allstocks= pd.read_excel(\"data/allstocks.xlsx\")"
   ]
  },
  {
   "cell_type": "code",
   "execution_count": 5,
   "id": "053e1142",
   "metadata": {},
   "outputs": [],
   "source": [
    "NSE_ISIN = pd.read_csv(\"data/NSE_ISIN.csv\")\n",
    "NSE_ISIN.columns = NSE_ISIN.columns.str.strip()"
   ]
  },
  {
   "cell_type": "code",
   "execution_count": 8,
   "id": "cc3c8684",
   "metadata": {},
   "outputs": [],
   "source": [
    "latest_supertrend = con.sql(\"select * from latest_supertrend\").df()"
   ]
  },
  {
   "cell_type": "code",
   "execution_count": 12,
   "id": "39e47461",
   "metadata": {},
   "outputs": [
    {
     "name": "stdout",
     "output_type": "stream",
     "text": [
      "           Date      Ticker      Open      High       Low     Close    Volume  \\\n",
      "0    2025-09-25   20MICRONS    227.20    228.00    223.65    225.34   57577.0   \n",
      "1    2025-09-25  21STCENMGM     53.01     53.01     51.36     52.05    2134.0   \n",
      "2    2025-09-25      360ONE   1025.00   1029.20   1012.00   1022.10  552856.0   \n",
      "3    2025-09-25   3IINFOLTD     24.54     24.54     23.40     23.85  398508.0   \n",
      "4    2025-09-25     3MINDIA  29520.00  29545.00  28790.00  28920.00    3698.0   \n",
      "...         ...         ...       ...       ...       ...       ...       ...   \n",
      "2412 2025-09-25        ZOTA   1474.40   1499.00   1450.00   1484.60   12376.0   \n",
      "2413 2025-09-25       ZUARI    302.25    302.25    291.00    302.25  339794.0   \n",
      "2414 2025-09-25    ZUARIIND    395.85    416.00    387.40    403.90  944922.0   \n",
      "2415 2025-09-25   ZYDUSLIFE   1035.45   1042.40   1016.45   1019.25  734930.0   \n",
      "2416 2025-09-25   ZYDUSWELL    486.90    487.20    470.60    474.20   68704.0   \n",
      "\n",
      "        SuperTrend  Trend  \n",
      "0       221.788000   True  \n",
      "1        59.876000  False  \n",
      "2      1042.350000  False  \n",
      "3        22.673333   True  \n",
      "4     28425.000000   True  \n",
      "...            ...    ...  \n",
      "2412   1225.390000   True  \n",
      "2413    300.906000   True  \n",
      "2414    280.600000   True  \n",
      "2415    952.075000   True  \n",
      "2416   2154.310000  False  \n",
      "\n",
      "[2417 rows x 9 columns]\n"
     ]
    }
   ],
   "source": [
    "print(latest_supertrend)"
   ]
  },
  {
   "cell_type": "code",
   "execution_count": 13,
   "id": "88989f33",
   "metadata": {},
   "outputs": [],
   "source": [
    "price_threshold = 0.03\n",
    "volume_threshold = 2.0\n",
    "\n",
    "latest_date = df[\"Date\"].max()"
   ]
  },
  {
   "cell_type": "code",
   "execution_count": 14,
   "id": "553b42a6",
   "metadata": {},
   "outputs": [],
   "source": [
    "results = []\n",
    "\n",
    "for ticker, group in df.groupby(\"Ticker\"):\n",
    "    group = group.sort_values(\"Date\").reset_index(drop=True)\n",
    "\n",
    "    # Calculate daily % price change (Close vs Previous Close)\n",
    "    group[\"Pct_Change\"] = group[\"Close\"].pct_change()\n",
    "\n",
    "    # Calculate rolling average volume (last 20 days)\n",
    "    group[\"Avg_Volume\"] = group[\"Volume\"].rolling(window=20, min_periods=5).mean()\n",
    "\n",
    "    # Signal: price up > threshold & volume > threshold * avg_volume\n",
    "    group[\"Signal\"] = (group[\"Pct_Change\"] > price_threshold) & (group[\"Volume\"] > volume_threshold * group[\"Avg_Volume\"])\n",
    "\n",
    "    results.append(group)\n",
    "\n",
    "result_df = pd.concat(results)\n",
    "\n",
    "signals = result_df[result_df[\"Signal\"]]\n",
    "latest_signals = signals[signals[\"Date\"] == latest_date]"
   ]
  },
  {
   "cell_type": "code",
   "execution_count": 15,
   "id": "a9daed80",
   "metadata": {},
   "outputs": [],
   "source": [
    "latest_signals = latest_signals.merge(\n",
    "    instruments_unique[[\"trading_symbol\",\"isin\"]],\n",
    "    left_on=\"Ticker\",\n",
    "    right_on=\"trading_symbol\",\n",
    "    how=\"inner\"\n",
    ")"
   ]
  },
  {
   "cell_type": "code",
   "execution_count": 16,
   "id": "67ad9e99",
   "metadata": {},
   "outputs": [],
   "source": [
    "latest_signals = pd.merge(\n",
    "    latest_signals,\n",
    "    allstocks,\n",
    "    left_on=\"isin\",         # column name in latest_signals\n",
    "    right_on=\"ISIN\",     # column name in allstocks\n",
    "    how=\"left\"           # inner join (only matching tickers)\n",
    ")"
   ]
  },
  {
   "cell_type": "code",
   "execution_count": 17,
   "id": "1afacc0b",
   "metadata": {},
   "outputs": [],
   "source": [
    "latest_signals = latest_signals.merge(\n",
    "    latest_supertrend[[\"Ticker\",\"SuperTrend\",\"Trend\"]],\n",
    "    on=\"Ticker\",         # column name in latest_signals\n",
    "    how=\"left\"           # inner join (only matching tickers)\n",
    ")"
   ]
  },
  {
   "cell_type": "code",
   "execution_count": 18,
   "id": "b34e583d",
   "metadata": {},
   "outputs": [
    {
     "data": {
      "text/plain": [
       "(35, 58)"
      ]
     },
     "execution_count": 18,
     "metadata": {},
     "output_type": "execute_result"
    }
   ],
   "source": [
    "latest_signals.shape"
   ]
  },
  {
   "cell_type": "code",
   "execution_count": 19,
   "id": "74ea5594",
   "metadata": {},
   "outputs": [],
   "source": [
    "latest_signals.to_csv(\"latest_signals.csv\", index=False)"
   ]
  },
  {
   "cell_type": "code",
   "execution_count": 43,
   "id": "fd590e08",
   "metadata": {},
   "outputs": [],
   "source": [
    "filtered = latest_signals[\n",
    "    (latest_signals[\"Market Capitalization\"] > 1000) &\n",
    "    #(latest_signals[\"ROCE Annual 3Yr Avg %\"] > 15) &\n",
    "    #(latest_signals['Long Term Debt To Equity Annual'] < 0.5) &\n",
    "    #(latest_signals['Promoter holding latest %'] > 60) &\n",
    "    (latest_signals['Trend'] == True) &\n",
    "    (latest_signals['Promoter holding pledge percentage % Qtr'] < 0.01) &\n",
    "    (latest_signals['Net Profit Qtr Growth YoY %'] > 0) &\n",
    "    (latest_signals['Operating Revenue growth TTM %'] > 10) &\n",
    "    (latest_signals['Cash EPS 5Yr Growth %'] > 15) &\n",
    "    (latest_signals['EPS TTM Growth %'] > 15) &\n",
    "    (latest_signals[\"PEG TTM PE to Growth\"] > 0) &\n",
    "    (latest_signals[\"PEG TTM PE to Growth\"] < 2)\n",
    "]"
   ]
  },
  {
   "cell_type": "code",
   "execution_count": 44,
   "id": "7859cb1d",
   "metadata": {},
   "outputs": [
    {
     "data": {
      "text/plain": [
       "(1, 58)"
      ]
     },
     "execution_count": 44,
     "metadata": {},
     "output_type": "execute_result"
    }
   ],
   "source": [
    "filtered.shape"
   ]
  },
  {
   "cell_type": "code",
   "execution_count": 41,
   "id": "9cc0afcf",
   "metadata": {},
   "outputs": [],
   "source": [
    "filtered.to_csv(\"filtered.csv\", index=False)"
   ]
  },
  {
   "cell_type": "code",
   "execution_count": 113,
   "id": "bd33fedc",
   "metadata": {},
   "outputs": [],
   "source": [
    "\n",
    "\n",
    "def send_dataframe_via_telegram(df, bot_token, chat_id, caption=\"DataFrame\"):\n",
    "    import matplotlib.pyplot as plt\n",
    "    import requests\n",
    "    \n",
    "    if df.empty:\n",
    "        telegram = requests.post(\n",
    "            f\"https://api.telegram.org/bot{bot_token}/sendMessage\",\n",
    "            data={\"chat_id\": chat_id, \"text\": f\"Nothing in {caption} list today.\"}\n",
    "        )\n",
    "        return telegram.json()\n",
    "    # Render DataFrame as image\n",
    "    fig, ax = plt.subplots(figsize=(6, 0.5 + 0.3*len(df)))  # auto height\n",
    "    ax.axis(\"off\")\n",
    "    table = ax.table(\n",
    "        cellText=df.values,\n",
    "        colLabels=df.columns,\n",
    "        cellLoc=\"center\",\n",
    "        loc=\"center\"\n",
    "    )\n",
    "    table.auto_set_font_size(False)\n",
    "    table.set_fontsize(10)\n",
    "    table.scale(1.2, 1.2)\n",
    "    \n",
    "    filename = \"table.png\"\n",
    "    plt.savefig(filename, bbox_inches=\"tight\")\n",
    "    plt.close()\n",
    "    \n",
    "    # Send to Telegram\n",
    "    url = f\"https://api.telegram.org/bot{bot_token}/sendPhoto\"\n",
    "    with open(filename, \"rb\") as f:\n",
    "        res = requests.post(url, data={\"chat_id\": chat_id, \"caption\": caption}, files={\"photo\": f})\n",
    "    return res.json()"
   ]
  },
  {
   "cell_type": "code",
   "execution_count": 22,
   "id": "e071d704",
   "metadata": {},
   "outputs": [
    {
     "data": {
      "text/plain": [
       "{'ok': True,\n",
       " 'result': {'message_id': 42,\n",
       "  'from': {'id': 7252728340,\n",
       "   'is_bot': True,\n",
       "   'first_name': 'DailyNseDataLoad',\n",
       "   'username': 'DpsStockAnalysis_bot'},\n",
       "  'chat': {'id': 5798902540,\n",
       "   'first_name': 'Daksh',\n",
       "   'last_name': 'Singh',\n",
       "   'type': 'private'},\n",
       "  'date': 1758689264,\n",
       "  'text': 'Nothing in Buy list today.'}}"
      ]
     },
     "execution_count": 22,
     "metadata": {},
     "output_type": "execute_result"
    }
   ],
   "source": [
    "\n",
    "send_dataframe_via_telegram(filtered[[\"Stock Name\"]], BOT_TOKEN, CHAT_ID, \"Buy\")"
   ]
  },
  {
   "cell_type": "markdown",
   "id": "d0e193ce",
   "metadata": {},
   "source": [
    "## Sell List\n",
    "---"
   ]
  },
  {
   "cell_type": "code",
   "execution_count": 80,
   "id": "d9af6993",
   "metadata": {},
   "outputs": [],
   "source": [
    "\n",
    "# Step 1: Create holdings DataFrame (from your response)\n",
    "holdings_response = groww.get_holdings_for_user(timeout=5)\n"
   ]
  },
  {
   "cell_type": "code",
   "execution_count": 92,
   "id": "25913599",
   "metadata": {},
   "outputs": [],
   "source": [
    "holdings = pd.DataFrame(holdings_response[\"holdings\"])\n",
    "holdings = holdings[[\"isin\", \"trading_symbol\", \"quantity\", \"average_price\"]]\n",
    "\n",
    "instruments_priority = instruments_df.copy()\n",
    "instruments_priority['priority'] = instruments_priority['exchange'].apply(lambda x: 1 if x=='NSE' else 2)\n",
    "instruments_unique = instruments_priority.sort_values(['trading_symbol','priority']).drop_duplicates('trading_symbol', keep='first')\n",
    "\n",
    "holdings = holdings.merge(\n",
    "    instruments_unique[['isin', 'exchange']],\n",
    "    on='isin',\n",
    "    how='left'\n",
    ")\n"
   ]
  },
  {
   "cell_type": "code",
   "execution_count": 93,
   "id": "edbedd46",
   "metadata": {},
   "outputs": [],
   "source": [
    "# Columns from get_quote you want to add\n",
    "quote_cols = [\n",
    "    \"bid_quantity\", \"bid_price\", \"day_change\", \"day_change_perc\",\n",
    "    \"upper_circuit_limit\", \"lower_circuit_limit\", \"last_price\", \"high_trade_range\",\n",
    "    \"low_trade_range\", \"volume\", \"week_52_high\", \"week_52_low\", \"market_cap\"\n",
    "]\n",
    "\n",
    "# Initialize empty dict to store quote data\n",
    "quotes_data = {col: [] for col in quote_cols}\n",
    "\n",
    "# Loop through holdings\n",
    "for idx, row in holdings.iterrows():\n",
    "    try:\n",
    "        quote_response = groww.get_quote(\n",
    "            exchange=row[\"exchange\"],  # NSE or BSE\n",
    "            segment=groww.SEGMENT_CASH,\n",
    "            trading_symbol=row[\"trading_symbol\"]\n",
    "        )\n",
    "        \n",
    "        # Add data to quotes_data dict\n",
    "        for col in quote_cols:\n",
    "            # Handle nested OHLC if needed\n",
    "            if col in quote_response:\n",
    "                quotes_data[col].append(quote_response[col])\n",
    "            else:\n",
    "                quotes_data[col].append(None)\n",
    "        \n",
    "        # Optional: small delay to avoid API limits\n",
    "        time.sleep(0.1)\n",
    "\n",
    "    except Exception as e:\n",
    "        print(f\"Error fetching {row['trading_symbol']}: {e}\")\n",
    "        for col in quote_cols:\n",
    "            quotes_data[col].append(None)\n",
    "\n",
    "# Convert quotes_data to DataFrame\n",
    "quotes_df = pd.DataFrame(quotes_data)\n",
    "\n",
    "# Concatenate with holdings\n",
    "holdings = pd.concat([holdings.reset_index(drop=True), quotes_df], axis=1)\n",
    "\n"
   ]
  },
  {
   "cell_type": "code",
   "execution_count": 95,
   "id": "4bde1d25",
   "metadata": {},
   "outputs": [],
   "source": [
    "holdings[\"ltp\"] = holdings[\"last_price\"]  # use last_price as LTP\n",
    "holdings[\"current_value\"] = holdings[\"quantity\"] * holdings[\"ltp\"]\n",
    "holdings[\"pnl_percent\"] = (holdings[\"ltp\"] - holdings[\"average_price\"]) / holdings[\"average_price\"] * 100\n",
    "holdings[\"day_gain\"] = holdings[\"quantity\"] * holdings[\"day_change\"]"
   ]
  },
  {
   "cell_type": "code",
   "execution_count": 97,
   "id": "4b016793",
   "metadata": {},
   "outputs": [],
   "source": [
    "holdings = pd.merge(\n",
    "    holdings,\n",
    "    allstocks,\n",
    "    left_on=\"isin\",         # column name in latest_signals\n",
    "    right_on=\"ISIN\",     # column name in allstocks\n",
    "    how=\"left\"           # inner join (only matching tickers)\n",
    ")"
   ]
  },
  {
   "cell_type": "code",
   "execution_count": 100,
   "id": "33f7a5fd",
   "metadata": {},
   "outputs": [],
   "source": [
    "holdings = pd.merge(\n",
    "    holdings,\n",
    "    latest_supertrend[[\"Ticker\",\"SuperTrend\",\"Trend\"]],\n",
    "    left_on=\"trading_symbol\",         # column name in latest_signals\n",
    "    right_on=\"Ticker\",         \n",
    "    how=\"left\"           # inner join (only matching tickers)\n",
    ")"
   ]
  },
  {
   "cell_type": "code",
   "execution_count": 118,
   "id": "0de1748b",
   "metadata": {},
   "outputs": [],
   "source": [
    "# Restrict \"Stock Name\" to first 2 words\n",
    "holdings[\"Stock Name\"] = holdings[\"Stock Name\"].str.split().str[:2].str.join(\" \")\n",
    "# Further restrict to first word if length > 20\n",
    "holdings[\"Stock Name\"] = holdings[\"Stock Name\"].apply(lambda x: x.split()[0] if len(x) > 15 else x)\n"
   ]
  },
  {
   "cell_type": "code",
   "execution_count": 119,
   "id": "049a8826",
   "metadata": {},
   "outputs": [],
   "source": [
    "# Select specific columns and filter rows where Trend is False\n",
    "sell_list = holdings.loc[\n",
    "    holdings[\"Trend\"] == False,\n",
    "    [\"Stock Name\", \"current_value\", \"day_change_perc\", \"pnl_percent\"]\n",
    "]\n",
    "\n",
    "# Format numeric columns\n",
    "sell_list[\"current_value\"] = sell_list[\"current_value\"].astype(int)\n",
    "sell_list[\"day_change_perc\"] = sell_list[\"day_change_perc\"].round(2)\n",
    "sell_list[\"pnl_percent\"] = sell_list[\"pnl_percent\"].round(2)"
   ]
  },
  {
   "cell_type": "code",
   "execution_count": 121,
   "id": "31e3ebf4",
   "metadata": {},
   "outputs": [
    {
     "name": "stdout",
     "output_type": "stream",
     "text": [
      "            isin trading_symbol  quantity  average_price exchange  \\\n",
      "0   INE024F01011      SHILCTECH     283.0        5263.65      BSE   \n",
      "1   INE0PPK01015     ORIENTTECH    1330.0         374.72      NSE   \n",
      "2   INE0R4701017     ALPEXSOLAR    1200.0        1176.22      NSE   \n",
      "3   INE162B01018       LUMAXIND     464.0        3239.38      NSE   \n",
      "4   INE205B01031         ELECON    2503.0         600.06      NSE   \n",
      "5   INE230A01023        EIHOTEL    3688.0         405.54      NSE   \n",
      "6   INE281B01032       LLOYDSME    1478.0        1013.19      NSE   \n",
      "7   INE397D01024     BHARTIARTL     765.0        1965.86      NSE   \n",
      "8   INE410P01011             NH     852.0        1755.35      NSE   \n",
      "9   INE417T01026      POLICYBZR     788.0        1901.97      NSE   \n",
      "10  INE419D01026          CLSEL    1507.0         331.31      NSE   \n",
      "11  INE451A01017       FORCEMOT     112.0       13287.76      NSE   \n",
      "12  INE495S01016            HPL    2635.0         568.22      NSE   \n",
      "13  INE646L01027         INDIGO     278.0        5381.63      NSE   \n",
      "14  INE745G01035            MCX     186.0        8069.75      NSE   \n",
      "15  INE818H01020        LTFOODS    3513.0         426.03      NSE   \n",
      "\n",
      "   bid_quantity bid_price  day_change  day_change_perc  upper_circuit_limit  \\\n",
      "0          None      None      -39.65        -0.865900              5494.85   \n",
      "1          None      None       -2.60        -0.750794               415.55   \n",
      "2          None      None      -13.60        -1.125315              1450.25   \n",
      "3          None      None       46.70         0.979159              5723.20   \n",
      "4          None      None      -11.75        -2.010437               701.30   \n",
      "5          None      None       -5.10        -1.344937               455.00   \n",
      "6          None      None       -8.10        -0.634498              1531.90   \n",
      "7          None      None       -3.10        -0.160157              2129.10   \n",
      "8          None      None       -4.50        -0.261567              2064.40   \n",
      "9          None      None       -6.70        -0.382595              1926.30   \n",
      "10         None      None       -0.40        -0.146413               327.80   \n",
      "11         None      None       97.00         0.546171             21312.00   \n",
      "12         None      None       -6.75        -1.409922               574.50   \n",
      "13         None      None       -6.50        -0.114548              6241.50   \n",
      "14         None      None      -23.50        -0.292908              8825.00   \n",
      "15         None      None       -6.20        -1.456596               510.75   \n",
      "\n",
      "    ...  Operating Profit Margin Annual %  \\\n",
      "0   ...                             28.88   \n",
      "1   ...                              7.99   \n",
      "2   ...                             16.00   \n",
      "3   ...                              8.19   \n",
      "4   ...                             23.72   \n",
      "5   ...                             35.32   \n",
      "6   ...                             28.84   \n",
      "7   ...                             53.37   \n",
      "8   ...                             22.89   \n",
      "9   ...                              1.74   \n",
      "10  ...                              9.38   \n",
      "11  ...                             13.44   \n",
      "12  ...                             14.93   \n",
      "13  ...                             21.47   \n",
      "14  ...                             55.04   \n",
      "15  ...                             11.15   \n",
      "\n",
      "    Operating Profit Margin Annual 1Yr ago % Promoter holding latest %  \\\n",
      "0                                      27.65                     64.01   \n",
      "1                                       9.33                     73.24   \n",
      "2                                       8.93                     68.76   \n",
      "3                                       8.70                     75.00   \n",
      "4                                      23.95                     59.27   \n",
      "5                                      35.30                     32.85   \n",
      "6                                      26.29                     63.05   \n",
      "7                                      51.71                     51.25   \n",
      "8                                      22.62                     63.85   \n",
      "9                                      -4.88                      0.00   \n",
      "10                                     11.86                     74.05   \n",
      "11                                     12.92                     61.63   \n",
      "12                                     13.12                     72.66   \n",
      "13                                     22.91                     43.54   \n",
      "14                                      8.47                      0.00   \n",
      "15                                     11.99                     51.00   \n",
      "\n",
      "   Promoter holding pledge percentage % Qtr  \\\n",
      "0                                      0.00   \n",
      "1                                      0.00   \n",
      "2                                      0.00   \n",
      "3                                      0.00   \n",
      "4                                      0.00   \n",
      "5                                      0.00   \n",
      "6                                     16.81   \n",
      "7                                      0.00   \n",
      "8                                      0.00   \n",
      "9                                      0.00   \n",
      "10                                     0.00   \n",
      "11                                     0.00   \n",
      "12                                     1.18   \n",
      "13                                     0.00   \n",
      "14                                     0.00   \n",
      "15                                     0.00   \n",
      "\n",
      "    Institutional holding current Qtr % Total Debt to Total Equity Annual  \\\n",
      "0                                  2.25                              0.00   \n",
      "1                                  0.69                              0.00   \n",
      "2                                  1.94                              0.33   \n",
      "3                                  6.93                              1.00   \n",
      "4                                 13.45                              0.00   \n",
      "5                                 19.70                              0.00   \n",
      "6                                  4.46                              0.12   \n",
      "7                                 45.93                              1.13   \n",
      "8                                 18.55                              0.61   \n",
      "9                                 70.05                              0.00   \n",
      "10                                 5.16                              0.17   \n",
      "11                                11.43                              0.01   \n",
      "12                                 1.00                              0.69   \n",
      "13                                51.40                              0.19   \n",
      "14                                80.78                              0.00   \n",
      "15                                17.37                              0.19   \n",
      "\n",
      "   Long Term Debt To Equity Annual      Ticker  SuperTrend  Trend  \n",
      "0                             0.00         NaN         NaN    NaN  \n",
      "1                             0.00  ORIENTTECH     342.030   True  \n",
      "2                             0.07         NaN         NaN    NaN  \n",
      "3                             0.28    LUMAXIND    3482.160   True  \n",
      "4                             0.00      ELECON     578.095   True  \n",
      "5                             0.00     EIHOTEL     368.200   True  \n",
      "6                             0.12    LLOYDSME    1344.100  False  \n",
      "7                             0.80  BHARTIARTL    1883.820   True  \n",
      "8                             0.54          NH    1837.510  False  \n",
      "9                             0.00   POLICYBZR    1682.620   True  \n",
      "10                            0.08       CLSEL     321.475  False  \n",
      "11                            0.00    FORCEMOT   16608.000   True  \n",
      "12                            0.02         HPL     491.510  False  \n",
      "13                            0.00      INDIGO    5586.750   True  \n",
      "14                            0.00         MCX    7780.600   True  \n",
      "15                            0.00     LTFOODS     408.745   True  \n",
      "\n",
      "[16 rows x 69 columns]\n"
     ]
    }
   ],
   "source": [
    "print(holdings)"
   ]
  },
  {
   "cell_type": "code",
   "execution_count": null,
   "id": "361df4ae",
   "metadata": {},
   "outputs": [
    {
     "name": "stderr",
     "output_type": "stream",
     "text": [
      "DEBUG:matplotlib:matplotlib data path: /home/vscode/.local/lib/python3.11/site-packages/matplotlib/mpl-data\n",
      "DEBUG:matplotlib:CONFIGDIR=/home/vscode/.config/matplotlib\n",
      "DEBUG:matplotlib:interactive is False\n",
      "DEBUG:matplotlib:platform is linux\n",
      "DEBUG:matplotlib:CACHEDIR=/home/vscode/.cache/matplotlib\n",
      "DEBUG:matplotlib.font_manager:Using fontManager instance from /home/vscode/.cache/matplotlib/fontlist-v390.json\n",
      "DEBUG:matplotlib.pyplot:Loaded backend module://matplotlib_inline.backend_inline version unknown.\n",
      "DEBUG:matplotlib.pyplot:Loaded backend module://matplotlib_inline.backend_inline version unknown.\n",
      "DEBUG:matplotlib.font_manager:findfont: Matching sans\\-serif:style=normal:variant=normal:weight=normal:stretch=normal:size=10.0.\n",
      "DEBUG:matplotlib.font_manager:findfont: score(FontEntry(fname='/home/vscode/.local/lib/python3.11/site-packages/matplotlib/mpl-data/fonts/ttf/DejaVuSansMono-Oblique.ttf', name='DejaVu Sans Mono', style='oblique', variant='normal', weight=400, stretch='normal', size='scalable')) = 11.05\n",
      "DEBUG:matplotlib.font_manager:findfont: score(FontEntry(fname='/home/vscode/.local/lib/python3.11/site-packages/matplotlib/mpl-data/fonts/ttf/STIXSizFourSymReg.ttf', name='STIXSizeFourSym', style='normal', variant='normal', weight=400, stretch='normal', size='scalable')) = 10.05\n",
      "DEBUG:matplotlib.font_manager:findfont: score(FontEntry(fname='/home/vscode/.local/lib/python3.11/site-packages/matplotlib/mpl-data/fonts/ttf/DejaVuSansMono.ttf', name='DejaVu Sans Mono', style='normal', variant='normal', weight=400, stretch='normal', size='scalable')) = 10.05\n",
      "DEBUG:matplotlib.font_manager:findfont: score(FontEntry(fname='/home/vscode/.local/lib/python3.11/site-packages/matplotlib/mpl-data/fonts/ttf/DejaVuSans-Bold.ttf', name='DejaVu Sans', style='normal', variant='normal', weight=700, stretch='normal', size='scalable')) = 0.33499999999999996\n",
      "DEBUG:matplotlib.font_manager:findfont: score(FontEntry(fname='/home/vscode/.local/lib/python3.11/site-packages/matplotlib/mpl-data/fonts/ttf/cmss10.ttf', name='cmss10', style='normal', variant='normal', weight=400, stretch='normal', size='scalable')) = 10.05\n",
      "DEBUG:matplotlib.font_manager:findfont: score(FontEntry(fname='/home/vscode/.local/lib/python3.11/site-packages/matplotlib/mpl-data/fonts/ttf/STIXGeneralBolIta.ttf', name='STIXGeneral', style='italic', variant='normal', weight=700, stretch='normal', size='scalable')) = 11.335\n",
      "DEBUG:matplotlib.font_manager:findfont: score(FontEntry(fname='/home/vscode/.local/lib/python3.11/site-packages/matplotlib/mpl-data/fonts/ttf/STIXNonUniBolIta.ttf', name='STIXNonUnicode', style='italic', variant='normal', weight=700, stretch='normal', size='scalable')) = 11.335\n",
      "DEBUG:matplotlib.font_manager:findfont: score(FontEntry(fname='/home/vscode/.local/lib/python3.11/site-packages/matplotlib/mpl-data/fonts/ttf/STIXGeneralBol.ttf', name='STIXGeneral', style='normal', variant='normal', weight=700, stretch='normal', size='scalable')) = 10.335\n",
      "DEBUG:matplotlib.font_manager:findfont: score(FontEntry(fname='/home/vscode/.local/lib/python3.11/site-packages/matplotlib/mpl-data/fonts/ttf/STIXGeneralItalic.ttf', name='STIXGeneral', style='italic', variant='normal', weight=400, stretch='normal', size='scalable')) = 11.05\n",
      "DEBUG:matplotlib.font_manager:findfont: score(FontEntry(fname='/home/vscode/.local/lib/python3.11/site-packages/matplotlib/mpl-data/fonts/ttf/STIXNonUni.ttf', name='STIXNonUnicode', style='normal', variant='normal', weight=400, stretch='normal', size='scalable')) = 10.05\n",
      "DEBUG:matplotlib.font_manager:findfont: score(FontEntry(fname='/home/vscode/.local/lib/python3.11/site-packages/matplotlib/mpl-data/fonts/ttf/DejaVuSans.ttf', name='DejaVu Sans', style='normal', variant='normal', weight=400, stretch='normal', size='scalable')) = 0.05\n",
      "DEBUG:matplotlib.font_manager:findfont: score(FontEntry(fname='/home/vscode/.local/lib/python3.11/site-packages/matplotlib/mpl-data/fonts/ttf/cmr10.ttf', name='cmr10', style='normal', variant='normal', weight=400, stretch='normal', size='scalable')) = 10.05\n",
      "DEBUG:matplotlib.font_manager:findfont: score(FontEntry(fname='/home/vscode/.local/lib/python3.11/site-packages/matplotlib/mpl-data/fonts/ttf/cmtt10.ttf', name='cmtt10', style='normal', variant='normal', weight=400, stretch='normal', size='scalable')) = 10.05\n",
      "DEBUG:matplotlib.font_manager:findfont: score(FontEntry(fname='/home/vscode/.local/lib/python3.11/site-packages/matplotlib/mpl-data/fonts/ttf/DejaVuSerif.ttf', name='DejaVu Serif', style='normal', variant='normal', weight=400, stretch='normal', size='scalable')) = 10.05\n",
      "DEBUG:matplotlib.font_manager:findfont: score(FontEntry(fname='/home/vscode/.local/lib/python3.11/site-packages/matplotlib/mpl-data/fonts/ttf/STIXSizFiveSymReg.ttf', name='STIXSizeFiveSym', style='normal', variant='normal', weight=400, stretch='normal', size='scalable')) = 10.05\n",
      "DEBUG:matplotlib.font_manager:findfont: score(FontEntry(fname='/home/vscode/.local/lib/python3.11/site-packages/matplotlib/mpl-data/fonts/ttf/cmsy10.ttf', name='cmsy10', style='normal', variant='normal', weight=400, stretch='normal', size='scalable')) = 10.05\n",
      "DEBUG:matplotlib.font_manager:findfont: score(FontEntry(fname='/home/vscode/.local/lib/python3.11/site-packages/matplotlib/mpl-data/fonts/ttf/DejaVuSerif-Bold.ttf', name='DejaVu Serif', style='normal', variant='normal', weight=700, stretch='normal', size='scalable')) = 10.335\n",
      "DEBUG:matplotlib.font_manager:findfont: score(FontEntry(fname='/home/vscode/.local/lib/python3.11/site-packages/matplotlib/mpl-data/fonts/ttf/STIXSizThreeSymBol.ttf', name='STIXSizeThreeSym', style='normal', variant='normal', weight=700, stretch='normal', size='scalable')) = 10.335\n",
      "DEBUG:matplotlib.font_manager:findfont: score(FontEntry(fname='/home/vscode/.local/lib/python3.11/site-packages/matplotlib/mpl-data/fonts/ttf/DejaVuSerifDisplay.ttf', name='DejaVu Serif Display', style='normal', variant='normal', weight=400, stretch='normal', size='scalable')) = 10.05\n",
      "DEBUG:matplotlib.font_manager:findfont: score(FontEntry(fname='/home/vscode/.local/lib/python3.11/site-packages/matplotlib/mpl-data/fonts/ttf/cmmi10.ttf', name='cmmi10', style='normal', variant='normal', weight=400, stretch='normal', size='scalable')) = 10.05\n",
      "DEBUG:matplotlib.font_manager:findfont: score(FontEntry(fname='/home/vscode/.local/lib/python3.11/site-packages/matplotlib/mpl-data/fonts/ttf/DejaVuSerif-BoldItalic.ttf', name='DejaVu Serif', style='italic', variant='normal', weight=700, stretch='normal', size='scalable')) = 11.335\n",
      "DEBUG:matplotlib.font_manager:findfont: score(FontEntry(fname='/home/vscode/.local/lib/python3.11/site-packages/matplotlib/mpl-data/fonts/ttf/DejaVuSerif-Italic.ttf', name='DejaVu Serif', style='italic', variant='normal', weight=400, stretch='normal', size='scalable')) = 11.05\n",
      "DEBUG:matplotlib.font_manager:findfont: score(FontEntry(fname='/home/vscode/.local/lib/python3.11/site-packages/matplotlib/mpl-data/fonts/ttf/STIXSizTwoSymReg.ttf', name='STIXSizeTwoSym', style='normal', variant='normal', weight=400, stretch='normal', size='scalable')) = 10.05\n",
      "DEBUG:matplotlib.font_manager:findfont: score(FontEntry(fname='/home/vscode/.local/lib/python3.11/site-packages/matplotlib/mpl-data/fonts/ttf/DejaVuSansMono-Bold.ttf', name='DejaVu Sans Mono', style='normal', variant='normal', weight=700, stretch='normal', size='scalable')) = 10.335\n",
      "DEBUG:matplotlib.font_manager:findfont: score(FontEntry(fname='/home/vscode/.local/lib/python3.11/site-packages/matplotlib/mpl-data/fonts/ttf/DejaVuSans-BoldOblique.ttf', name='DejaVu Sans', style='oblique', variant='normal', weight=700, stretch='normal', size='scalable')) = 1.335\n",
      "DEBUG:matplotlib.font_manager:findfont: score(FontEntry(fname='/home/vscode/.local/lib/python3.11/site-packages/matplotlib/mpl-data/fonts/ttf/STIXSizThreeSymReg.ttf', name='STIXSizeThreeSym', style='normal', variant='normal', weight=400, stretch='normal', size='scalable')) = 10.05\n",
      "DEBUG:matplotlib.font_manager:findfont: score(FontEntry(fname='/home/vscode/.local/lib/python3.11/site-packages/matplotlib/mpl-data/fonts/ttf/STIXNonUniIta.ttf', name='STIXNonUnicode', style='italic', variant='normal', weight=400, stretch='normal', size='scalable')) = 11.05\n",
      "DEBUG:matplotlib.font_manager:findfont: score(FontEntry(fname='/home/vscode/.local/lib/python3.11/site-packages/matplotlib/mpl-data/fonts/ttf/cmex10.ttf', name='cmex10', style='normal', variant='normal', weight=400, stretch='normal', size='scalable')) = 10.05\n",
      "DEBUG:matplotlib.font_manager:findfont: score(FontEntry(fname='/home/vscode/.local/lib/python3.11/site-packages/matplotlib/mpl-data/fonts/ttf/STIXSizOneSymReg.ttf', name='STIXSizeOneSym', style='normal', variant='normal', weight=400, stretch='normal', size='scalable')) = 10.05\n",
      "DEBUG:matplotlib.font_manager:findfont: score(FontEntry(fname='/home/vscode/.local/lib/python3.11/site-packages/matplotlib/mpl-data/fonts/ttf/cmb10.ttf', name='cmb10', style='normal', variant='normal', weight=400, stretch='normal', size='scalable')) = 10.05\n",
      "DEBUG:matplotlib.font_manager:findfont: score(FontEntry(fname='/home/vscode/.local/lib/python3.11/site-packages/matplotlib/mpl-data/fonts/ttf/STIXSizOneSymBol.ttf', name='STIXSizeOneSym', style='normal', variant='normal', weight=700, stretch='normal', size='scalable')) = 10.335\n",
      "DEBUG:matplotlib.font_manager:findfont: score(FontEntry(fname='/home/vscode/.local/lib/python3.11/site-packages/matplotlib/mpl-data/fonts/ttf/DejaVuSansMono-BoldOblique.ttf', name='DejaVu Sans Mono', style='oblique', variant='normal', weight=700, stretch='normal', size='scalable')) = 11.335\n",
      "DEBUG:matplotlib.font_manager:findfont: score(FontEntry(fname='/home/vscode/.local/lib/python3.11/site-packages/matplotlib/mpl-data/fonts/ttf/DejaVuSans-Oblique.ttf', name='DejaVu Sans', style='oblique', variant='normal', weight=400, stretch='normal', size='scalable')) = 1.05\n",
      "DEBUG:matplotlib.font_manager:findfont: score(FontEntry(fname='/home/vscode/.local/lib/python3.11/site-packages/matplotlib/mpl-data/fonts/ttf/STIXSizTwoSymBol.ttf', name='STIXSizeTwoSym', style='normal', variant='normal', weight=700, stretch='normal', size='scalable')) = 10.335\n",
      "DEBUG:matplotlib.font_manager:findfont: score(FontEntry(fname='/home/vscode/.local/lib/python3.11/site-packages/matplotlib/mpl-data/fonts/ttf/STIXNonUniBol.ttf', name='STIXNonUnicode', style='normal', variant='normal', weight=700, stretch='normal', size='scalable')) = 10.335\n",
      "DEBUG:matplotlib.font_manager:findfont: score(FontEntry(fname='/home/vscode/.local/lib/python3.11/site-packages/matplotlib/mpl-data/fonts/ttf/DejaVuSansDisplay.ttf', name='DejaVu Sans Display', style='normal', variant='normal', weight=400, stretch='normal', size='scalable')) = 10.05\n",
      "DEBUG:matplotlib.font_manager:findfont: score(FontEntry(fname='/home/vscode/.local/lib/python3.11/site-packages/matplotlib/mpl-data/fonts/ttf/STIXGeneral.ttf', name='STIXGeneral', style='normal', variant='normal', weight=400, stretch='normal', size='scalable')) = 10.05\n",
      "DEBUG:matplotlib.font_manager:findfont: score(FontEntry(fname='/home/vscode/.local/lib/python3.11/site-packages/matplotlib/mpl-data/fonts/ttf/STIXSizFourSymBol.ttf', name='STIXSizeFourSym', style='normal', variant='normal', weight=700, stretch='normal', size='scalable')) = 10.335\n",
      "DEBUG:matplotlib.font_manager:findfont: score(FontEntry(fname='/usr/share/fonts/truetype/dejavu/DejaVuSansMono.ttf', name='DejaVu Sans Mono', style='normal', variant='normal', weight=400, stretch='normal', size='scalable')) = 10.05\n",
      "DEBUG:matplotlib.font_manager:findfont: score(FontEntry(fname='/usr/share/fonts/truetype/dejavu/DejaVuSans.ttf', name='DejaVu Sans', style='normal', variant='normal', weight=400, stretch='normal', size='scalable')) = 0.05\n",
      "DEBUG:matplotlib.font_manager:findfont: score(FontEntry(fname='/usr/share/fonts/truetype/dejavu/DejaVuSans-Bold.ttf', name='DejaVu Sans', style='normal', variant='normal', weight=700, stretch='normal', size='scalable')) = 0.33499999999999996\n",
      "DEBUG:matplotlib.font_manager:findfont: score(FontEntry(fname='/usr/share/fonts/truetype/dejavu/DejaVuSansMono-Oblique.ttf', name='DejaVu Sans Mono', style='oblique', variant='normal', weight=400, stretch='normal', size='scalable')) = 11.05\n",
      "DEBUG:matplotlib.font_manager:findfont: score(FontEntry(fname='/usr/share/fonts/truetype/dejavu/DejaVuSerif.ttf', name='DejaVu Serif', style='normal', variant='normal', weight=400, stretch='normal', size='scalable')) = 10.05\n",
      "DEBUG:matplotlib.font_manager:findfont: score(FontEntry(fname='/usr/share/fonts/truetype/dejavu/DejaVuSansMono-BoldOblique.ttf', name='DejaVu Sans Mono', style='oblique', variant='normal', weight=700, stretch='normal', size='scalable')) = 11.335\n",
      "DEBUG:matplotlib.font_manager:findfont: score(FontEntry(fname='/usr/share/fonts/truetype/dejavu/DejaVuSerif-Bold.ttf', name='DejaVu Serif', style='normal', variant='normal', weight=700, stretch='normal', size='scalable')) = 10.335\n",
      "DEBUG:matplotlib.font_manager:findfont: score(FontEntry(fname='/usr/share/fonts/truetype/dejavu/DejaVuSansMono-Bold.ttf', name='DejaVu Sans Mono', style='normal', variant='normal', weight=700, stretch='normal', size='scalable')) = 10.335\n",
      "DEBUG:matplotlib.font_manager:findfont: Matching sans\\-serif:style=normal:variant=normal:weight=normal:stretch=normal:size=10.0 to DejaVu Sans ('/home/vscode/.local/lib/python3.11/site-packages/matplotlib/mpl-data/fonts/ttf/DejaVuSans.ttf') with score of 0.050000.\n"
     ]
    },
    {
     "data": {
      "text/plain": [
       "{'ok': True,\n",
       " 'result': {'message_id': 47,\n",
       "  'from': {'id': 7252728340,\n",
       "   'is_bot': True,\n",
       "   'first_name': 'DailyNseDataLoad',\n",
       "   'username': 'DpsStockAnalysis_bot'},\n",
       "  'chat': {'id': 5798902540,\n",
       "   'first_name': 'Daksh',\n",
       "   'last_name': 'Singh',\n",
       "   'type': 'private'},\n",
       "  'date': 1758862641,\n",
       "  'photo': [{'file_id': 'AgACAgUAAxkDAAMvaNYdMWdhO7xjM5DxblSHi4J-SRMAAh3DMRt5XbBWoW_zJUGc96QBAAMCAANzAAM2BA',\n",
       "    'file_unique_id': 'AQADHcMxG3ldsFZ4',\n",
       "    'file_size': 787,\n",
       "    'width': 90,\n",
       "    'height': 23},\n",
       "   {'file_id': 'AgACAgUAAxkDAAMvaNYdMWdhO7xjM5DxblSHi4J-SRMAAh3DMRt5XbBWoW_zJUGc96QBAAMCAANtAAM2BA',\n",
       "    'file_unique_id': 'AQADHcMxG3ldsFZy',\n",
       "    'file_size': 8576,\n",
       "    'width': 320,\n",
       "    'height': 83},\n",
       "   {'file_id': 'AgACAgUAAxkDAAMvaNYdMWdhO7xjM5DxblSHi4J-SRMAAh3DMRt5XbBWoW_zJUGc96QBAAMCAAN4AAM2BA',\n",
       "    'file_unique_id': 'AQADHcMxG3ldsFZ9',\n",
       "    'file_size': 18831,\n",
       "    'width': 577,\n",
       "    'height': 150}],\n",
       "  'caption': 'Buy'}}"
      ]
     },
     "execution_count": 114,
     "metadata": {},
     "output_type": "execute_result"
    }
   ],
   "source": [
    "send_dataframe_via_telegram(sell_list, BOT_TOKEN, CHAT_ID, \"Sell\")"
   ]
  },
  {
   "cell_type": "code",
   "execution_count": 122,
   "id": "560260b0",
   "metadata": {},
   "outputs": [],
   "source": [
    "holdings.to_csv(\"my_data.csv\", index=False)"
   ]
  },
  {
   "cell_type": "code",
   "execution_count": 124,
   "id": "cd5cef4d",
   "metadata": {},
   "outputs": [
    {
     "data": {
      "text/html": [
       "<div>\n",
       "<style scoped>\n",
       "    .dataframe tbody tr th:only-of-type {\n",
       "        vertical-align: middle;\n",
       "    }\n",
       "\n",
       "    .dataframe tbody tr th {\n",
       "        vertical-align: top;\n",
       "    }\n",
       "\n",
       "    .dataframe thead th {\n",
       "        text-align: right;\n",
       "    }\n",
       "</style>\n",
       "<table border=\"1\" class=\"dataframe\">\n",
       "  <thead>\n",
       "    <tr style=\"text-align: right;\">\n",
       "      <th></th>\n",
       "      <th>Date</th>\n",
       "      <th>Ticker</th>\n",
       "      <th>Open</th>\n",
       "      <th>High</th>\n",
       "      <th>Low</th>\n",
       "      <th>Close</th>\n",
       "      <th>Volume</th>\n",
       "      <th>SuperTrend</th>\n",
       "      <th>Trend</th>\n",
       "    </tr>\n",
       "  </thead>\n",
       "  <tbody>\n",
       "  </tbody>\n",
       "</table>\n",
       "</div>"
      ],
      "text/plain": [
       "Empty DataFrame\n",
       "Columns: [Date, Ticker, Open, High, Low, Close, Volume, SuperTrend, Trend]\n",
       "Index: []"
      ]
     },
     "execution_count": 124,
     "metadata": {},
     "output_type": "execute_result"
    }
   ],
   "source": [
    "latest_supertrend.loc[latest_supertrend[\"Ticker\"] == \"ALPEXSOLAR\"]"
   ]
  },
  {
   "cell_type": "code",
   "execution_count": 127,
   "id": "38d003fc",
   "metadata": {},
   "outputs": [
    {
     "data": {
      "text/html": [
       "<div>\n",
       "<style scoped>\n",
       "    .dataframe tbody tr th:only-of-type {\n",
       "        vertical-align: middle;\n",
       "    }\n",
       "\n",
       "    .dataframe tbody tr th {\n",
       "        vertical-align: top;\n",
       "    }\n",
       "\n",
       "    .dataframe thead th {\n",
       "        text-align: right;\n",
       "    }\n",
       "</style>\n",
       "<table border=\"1\" class=\"dataframe\">\n",
       "  <thead>\n",
       "    <tr style=\"text-align: right;\">\n",
       "      <th></th>\n",
       "      <th>Ticker</th>\n",
       "      <th>Date</th>\n",
       "      <th>Open</th>\n",
       "      <th>High</th>\n",
       "      <th>Low</th>\n",
       "      <th>Close</th>\n",
       "      <th>Volume</th>\n",
       "    </tr>\n",
       "  </thead>\n",
       "  <tbody>\n",
       "  </tbody>\n",
       "</table>\n",
       "</div>"
      ],
      "text/plain": [
       "Empty DataFrame\n",
       "Columns: [Ticker, Date, Open, High, Low, Close, Volume]\n",
       "Index: []"
      ]
     },
     "execution_count": 127,
     "metadata": {},
     "output_type": "execute_result"
    }
   ],
   "source": [
    "df.loc[df[\"Ticker\"] == \"ALPEXSOLAR\"]"
   ]
  },
  {
   "cell_type": "code",
   "execution_count": null,
   "id": "4bc01ede",
   "metadata": {},
   "outputs": [],
   "source": []
  }
 ],
 "metadata": {
  "kernelspec": {
   "display_name": "Python 3",
   "language": "python",
   "name": "python3"
  },
  "language_info": {
   "codemirror_mode": {
    "name": "ipython",
    "version": 3
   },
   "file_extension": ".py",
   "mimetype": "text/x-python",
   "name": "python",
   "nbconvert_exporter": "python",
   "pygments_lexer": "ipython3",
   "version": "3.11.13"
  }
 },
 "nbformat": 4,
 "nbformat_minor": 5
}
