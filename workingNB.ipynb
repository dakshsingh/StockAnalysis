{
 "cells": [
  {
   "cell_type": "code",
   "execution_count": 45,
   "id": "f46d3a10",
   "metadata": {},
   "outputs": [],
   "source": [
    "from datetime import date\n",
    "import pandas as pd\n",
    "import nselib\n",
    "from nselib import capital_market\n",
    "from sqlalchemy import create_engine\n",
    "import numpy as np\n",
    "import os\n",
    "from growwapi import GrowwAPI\n",
    "import pyotp\n",
    "import duckdb\n",
    "from pandas import json_normalize\n",
    "import time"
   ]
  },
  {
   "cell_type": "code",
   "execution_count": 2,
   "id": "70a6fa15",
   "metadata": {},
   "outputs": [],
   "source": [
    "motherduck_token = os.getenv(\"MOTHERDUCK_TOKEN\")\n",
    "con = duckdb.connect(f\"md:?motherduck_token={motherduck_token}\")"
   ]
  },
  {
   "cell_type": "code",
   "execution_count": 112,
   "id": "a246d3c3",
   "metadata": {},
   "outputs": [],
   "source": [
    "BOT_TOKEN = os.getenv(\"TELEGRAM_BOT_TOKEN\")\n",
    "CHAT_ID = '5798902540'"
   ]
  },
  {
   "cell_type": "code",
   "execution_count": 3,
   "id": "4e4cc2b7",
   "metadata": {},
   "outputs": [
    {
     "name": "stdout",
     "output_type": "stream",
     "text": [
      "Ready to Groww!\n"
     ]
    }
   ],
   "source": [
    "groww_api_key = os.getenv('GROWW_API_KEY')\n",
    "groww_api_secret = os.getenv('GROWW_API_SECRET')\n",
    "totp_gen = pyotp.TOTP(groww_api_secret)\n",
    "totp = totp_gen.now()\n",
    "\n",
    "access_token = GrowwAPI.get_access_token(groww_api_key, totp)\n",
    "groww = GrowwAPI(access_token)"
   ]
  },
  {
   "cell_type": "code",
   "execution_count": 56,
   "id": "51befc4c",
   "metadata": {},
   "outputs": [],
   "source": [
    "instruments_df = groww.get_all_instruments()\n",
    "\n",
    "instruments_priority = instruments_df.copy()\n",
    "instruments_priority['priority'] = instruments_priority['exchange'].apply(lambda x: 1 if x=='NSE' else 2)\n",
    "instruments_unique = instruments_priority.sort_values(['trading_symbol','priority']).drop_duplicates('trading_symbol', keep='first')"
   ]
  },
  {
   "cell_type": "markdown",
   "id": "7e87e7ac",
   "metadata": {},
   "source": [
    "## Supertrend"
   ]
  },
  {
   "cell_type": "code",
   "execution_count": null,
   "id": "02a84987",
   "metadata": {},
   "outputs": [],
   "source": [
    "df = con.sql(\"SELECT symbol as 'Ticker', date1 as 'Date', open_price as 'Open', high_price as 'High',low_price as 'Low',close_price as 'Close', deliv_qty as 'Volume' FROM daily_nse_price where series = 'EQ' and date1 > '2025-01-01'\").df()\n",
    "\n",
    "df[\"Volume\"] = df[\"Volume\"].astype(float)"
   ]
  },
  {
   "cell_type": "code",
   "execution_count": null,
   "id": "32257fb7",
   "metadata": {},
   "outputs": [],
   "source": [
    "def weekly_supertrend_daily(df, atr_period=10, multiplier=3):\n",
    "    \"\"\"\n",
    "    df: DataFrame with ['Ticker','Date','Open','High','Low','Close']\n",
    "    Returns df with 'SuperTrend' and 'Trend' columns applied to daily rows, based on weekly ATR\n",
    "    \"\"\"\n",
    "    df = df.copy()\n",
    "    df['Date'] = pd.to_datetime(df['Date'])\n",
    "    df = df.sort_values(['Ticker','Date'])\n",
    "\n",
    "    result_list = []\n",
    "\n",
    "    for ticker, group in df.groupby('Ticker'):\n",
    "        # Resample weekly to get High, Low, Close for SuperTrend calculation\n",
    "        weekly = group.resample('W-FRI', on='Date').agg({\n",
    "            'High':'max',\n",
    "            'Low':'min',\n",
    "            'Close':'last'\n",
    "        }).sort_index()\n",
    "\n",
    "        # Calculate weekly ATR\n",
    "        weekly['H-L'] = weekly['High'] - weekly['Low']\n",
    "        weekly['H-Cp'] = abs(weekly['High'] - weekly['Close'].shift())\n",
    "        weekly['L-Cp'] = abs(weekly['Low'] - weekly['Close'].shift())\n",
    "        weekly['TR'] = weekly[['H-L','H-Cp','L-Cp']].max(axis=1)\n",
    "        weekly['ATR'] = weekly['TR'].rolling(atr_period, min_periods=1).mean()\n",
    "\n",
    "        # Basic bands\n",
    "        weekly['Basic_Up'] = (weekly['High'] + weekly['Low'])/2 + multiplier*weekly['ATR']\n",
    "        weekly['Basic_Down'] = (weekly['High'] + weekly['Low'])/2 - multiplier*weekly['ATR']\n",
    "\n",
    "        # Weekly SuperTrend\n",
    "        weekly['SuperTrend'] = 0.0\n",
    "        for i in range(1,len(weekly)):\n",
    "            prev = weekly.iloc[i-1]\n",
    "            if prev['SuperTrend'] < prev['Close']:\n",
    "                curr_st = max(weekly.iloc[i]['Basic_Down'], prev['SuperTrend'])\n",
    "            else:\n",
    "                curr_st = min(weekly.iloc[i]['Basic_Up'], prev['SuperTrend'])\n",
    "            weekly.at[weekly.index[i], 'SuperTrend'] = curr_st\n",
    "\n",
    "        # ---- 2. Map weekly SuperTrend to daily data ----\n",
    "        group = group.set_index('Date')\n",
    "        group['SuperTrend'] = weekly['SuperTrend'].reindex(group.index, method='ffill')\n",
    "\n",
    "        # ---- 3. Daily Trend based on daily Close vs weekly SuperTrend ----\n",
    "        group['Trend'] = group['Close'] > group['SuperTrend']\n",
    "\n",
    "        group['Ticker'] = ticker\n",
    "        result_list.append(group.reset_index())\n",
    "\n",
    "    return pd.concat(result_list, ignore_index=True)"
   ]
  },
  {
   "cell_type": "code",
   "execution_count": null,
   "id": "bdeae29e",
   "metadata": {},
   "outputs": [],
   "source": [
    "daily_with_weekly_st = weekly_supertrend_daily(df, atr_period=10, multiplier=2)"
   ]
  },
  {
   "cell_type": "code",
   "execution_count": null,
   "id": "abc38a26",
   "metadata": {},
   "outputs": [],
   "source": [
    "latest_supertrend = daily_with_weekly_st.groupby(\"Ticker\").tail(1)"
   ]
  },
  {
   "cell_type": "code",
   "execution_count": 78,
   "id": "b7119792",
   "metadata": {},
   "outputs": [
    {
     "data": {
      "text/plain": [
       "<duckdb.duckdb.DuckDBPyConnection at 0x7178f00c0330>"
      ]
     },
     "execution_count": 78,
     "metadata": {},
     "output_type": "execute_result"
    }
   ],
   "source": [
    "con.register(\"latest_supertrend\", latest_supertrend).execute(\"create or replace table latest_supertrend as select * from latest_supertrend\")"
   ]
  },
  {
   "cell_type": "markdown",
   "id": "a43e0ea2",
   "metadata": {},
   "source": [
    "## 📊 Buy list\n",
    "---"
   ]
  },
  {
   "cell_type": "code",
   "execution_count": 75,
   "id": "b8c2aee0",
   "metadata": {},
   "outputs": [
    {
     "data": {
      "text/html": [
       "<div>\n",
       "<style scoped>\n",
       "    .dataframe tbody tr th:only-of-type {\n",
       "        vertical-align: middle;\n",
       "    }\n",
       "\n",
       "    .dataframe tbody tr th {\n",
       "        vertical-align: top;\n",
       "    }\n",
       "\n",
       "    .dataframe thead th {\n",
       "        text-align: right;\n",
       "    }\n",
       "</style>\n",
       "<table border=\"1\" class=\"dataframe\">\n",
       "  <thead>\n",
       "    <tr style=\"text-align: right;\">\n",
       "      <th></th>\n",
       "      <th>date1</th>\n",
       "      <th>count_star()</th>\n",
       "    </tr>\n",
       "  </thead>\n",
       "  <tbody>\n",
       "    <tr>\n",
       "      <th>0</th>\n",
       "      <td>2025-09-25</td>\n",
       "      <td>2980</td>\n",
       "    </tr>\n",
       "    <tr>\n",
       "      <th>1</th>\n",
       "      <td>2025-09-24</td>\n",
       "      <td>2990</td>\n",
       "    </tr>\n",
       "    <tr>\n",
       "      <th>2</th>\n",
       "      <td>2025-09-23</td>\n",
       "      <td>2982</td>\n",
       "    </tr>\n",
       "    <tr>\n",
       "      <th>3</th>\n",
       "      <td>2025-09-22</td>\n",
       "      <td>3039</td>\n",
       "    </tr>\n",
       "    <tr>\n",
       "      <th>4</th>\n",
       "      <td>2025-09-19</td>\n",
       "      <td>2979</td>\n",
       "    </tr>\n",
       "    <tr>\n",
       "      <th>...</th>\n",
       "      <td>...</td>\n",
       "      <td>...</td>\n",
       "    </tr>\n",
       "    <tr>\n",
       "      <th>1164</th>\n",
       "      <td>2021-01-07</td>\n",
       "      <td>2017</td>\n",
       "    </tr>\n",
       "    <tr>\n",
       "      <th>1165</th>\n",
       "      <td>2021-01-06</td>\n",
       "      <td>2040</td>\n",
       "    </tr>\n",
       "    <tr>\n",
       "      <th>1166</th>\n",
       "      <td>2021-01-05</td>\n",
       "      <td>2049</td>\n",
       "    </tr>\n",
       "    <tr>\n",
       "      <th>1167</th>\n",
       "      <td>2021-01-04</td>\n",
       "      <td>2055</td>\n",
       "    </tr>\n",
       "    <tr>\n",
       "      <th>1168</th>\n",
       "      <td>2021-01-01</td>\n",
       "      <td>1993</td>\n",
       "    </tr>\n",
       "  </tbody>\n",
       "</table>\n",
       "<p>1169 rows × 2 columns</p>\n",
       "</div>"
      ],
      "text/plain": [
       "          date1  count_star()\n",
       "0    2025-09-25          2980\n",
       "1    2025-09-24          2990\n",
       "2    2025-09-23          2982\n",
       "3    2025-09-22          3039\n",
       "4    2025-09-19          2979\n",
       "...         ...           ...\n",
       "1164 2021-01-07          2017\n",
       "1165 2021-01-06          2040\n",
       "1166 2021-01-05          2049\n",
       "1167 2021-01-04          2055\n",
       "1168 2021-01-01          1993\n",
       "\n",
       "[1169 rows x 2 columns]"
      ]
     },
     "execution_count": 75,
     "metadata": {},
     "output_type": "execute_result"
    }
   ],
   "source": [
    "con.sql(\"SELECT date1,count(*) from daily_nse_price group by date1 order by date1 desc\").df()"
   ]
  },
  {
   "cell_type": "code",
   "execution_count": 70,
   "id": "b968c478",
   "metadata": {},
   "outputs": [],
   "source": [
    "allstocks= pd.read_excel(\"data/allstocks.xlsx\")"
   ]
  },
  {
   "cell_type": "code",
   "execution_count": 5,
   "id": "053e1142",
   "metadata": {},
   "outputs": [],
   "source": [
    "NSE_ISIN = pd.read_csv(\"data/NSE_ISIN.csv\")\n",
    "NSE_ISIN.columns = NSE_ISIN.columns.str.strip()"
   ]
  },
  {
   "cell_type": "code",
   "execution_count": null,
   "id": "cc3c8684",
   "metadata": {},
   "outputs": [],
   "source": []
  },
  {
   "cell_type": "code",
   "execution_count": 10,
   "id": "39e47461",
   "metadata": {},
   "outputs": [
    {
     "name": "stdout",
     "output_type": "stream",
     "text": [
      "             Date      Ticker      Open      High       Low     Close  \\\n",
      "170    2025-09-23   20MICRONS    228.50    232.00    225.25    226.24   \n",
      "289    2025-09-23  21STCENMGM     53.39     53.40     51.55     52.87   \n",
      "467    2025-09-23      360ONE   1048.00   1053.30   1015.40   1019.60   \n",
      "645    2025-09-23   3IINFOLTD     24.30     24.60     24.30     24.38   \n",
      "823    2025-09-23     3MINDIA  30000.00  30085.00  29780.00  29835.00   \n",
      "...           ...         ...       ...       ...       ...       ...   \n",
      "367974 2025-09-23        ZOTA   1438.00   1475.00   1412.20   1466.20   \n",
      "368152 2025-09-23       ZUARI    270.95    281.00    268.10    274.20   \n",
      "368330 2025-09-23    ZUARIIND    287.95    331.95    287.95    313.40   \n",
      "368508 2025-09-23   ZYDUSLIFE   1035.50   1048.00   1030.30   1044.85   \n",
      "368686 2025-09-23   ZYDUSWELL    496.30    501.30    471.20    473.80   \n",
      "\n",
      "           Volume    SuperTrend  Trend  \n",
      "170       41932.0    221.788000   True  \n",
      "289        3526.0     59.876000  False  \n",
      "467     1344267.0   1042.350000  False  \n",
      "645      145811.0     22.673333   True  \n",
      "823        2359.0  28425.000000   True  \n",
      "...           ...           ...    ...  \n",
      "367974    29526.0   1225.390000   True  \n",
      "368152   188619.0    300.906000  False  \n",
      "368330   371510.0    280.600000   True  \n",
      "368508   305266.0    952.075000   True  \n",
      "368686   191404.0   2154.310000  False  \n",
      "\n",
      "[2415 rows x 9 columns]\n"
     ]
    }
   ],
   "source": [
    "print(latest_supertrend)"
   ]
  },
  {
   "cell_type": "code",
   "execution_count": 63,
   "id": "88989f33",
   "metadata": {},
   "outputs": [],
   "source": [
    "price_threshold = 0.03\n",
    "volume_threshold = 2.0\n",
    "\n",
    "latest_date = df[\"Date\"].max()"
   ]
  },
  {
   "cell_type": "code",
   "execution_count": 64,
   "id": "553b42a6",
   "metadata": {},
   "outputs": [],
   "source": [
    "results = []\n",
    "\n",
    "for ticker, group in df.groupby(\"Ticker\"):\n",
    "    group = group.sort_values(\"Date\").reset_index(drop=True)\n",
    "\n",
    "    # Calculate daily % price change (Close vs Previous Close)\n",
    "    group[\"Pct_Change\"] = group[\"Close\"].pct_change()\n",
    "\n",
    "    # Calculate rolling average volume (last 20 days)\n",
    "    group[\"Avg_Volume\"] = group[\"Volume\"].rolling(window=20, min_periods=5).mean()\n",
    "\n",
    "    # Signal: price up > threshold & volume > threshold * avg_volume\n",
    "    group[\"Signal\"] = (group[\"Pct_Change\"] > price_threshold) & (group[\"Volume\"] > volume_threshold * group[\"Avg_Volume\"])\n",
    "\n",
    "    results.append(group)\n",
    "\n",
    "result_df = pd.concat(results)\n",
    "\n",
    "signals = result_df[result_df[\"Signal\"]]\n",
    "latest_signals = signals[signals[\"Date\"] == latest_date]"
   ]
  },
  {
   "cell_type": "code",
   "execution_count": 67,
   "id": "a9daed80",
   "metadata": {},
   "outputs": [],
   "source": [
    "latest_signals = latest_signals.merge(\n",
    "    instruments_unique[[\"trading_symbol\",\"isin\"]],\n",
    "    left_on=\"Ticker\",\n",
    "    right_on=\"trading_symbol\",\n",
    "    how=\"inner\"\n",
    ")"
   ]
  },
  {
   "cell_type": "code",
   "execution_count": 71,
   "id": "67ad9e99",
   "metadata": {},
   "outputs": [],
   "source": [
    "latest_signals = pd.merge(\n",
    "    latest_signals,\n",
    "    allstocks,\n",
    "    left_on=\"isin\",         # column name in latest_signals\n",
    "    right_on=\"ISIN\",     # column name in allstocks\n",
    "    how=\"left\"           # inner join (only matching tickers)\n",
    ")"
   ]
  },
  {
   "cell_type": "code",
   "execution_count": 73,
   "id": "1afacc0b",
   "metadata": {},
   "outputs": [],
   "source": [
    "latest_signals = latest_signals.merge(\n",
    "    latest_supertrend[[\"Ticker\",\"SuperTrend\",\"Trend\"]],\n",
    "    on=\"Ticker\",         # column name in latest_signals\n",
    "    how=\"left\"           # inner join (only matching tickers)\n",
    ")"
   ]
  },
  {
   "cell_type": "code",
   "execution_count": 74,
   "id": "b34e583d",
   "metadata": {},
   "outputs": [
    {
     "data": {
      "text/plain": [
       "(35, 58)"
      ]
     },
     "execution_count": 74,
     "metadata": {},
     "output_type": "execute_result"
    }
   ],
   "source": [
    "latest_signals.shape"
   ]
  },
  {
   "cell_type": "code",
   "execution_count": 16,
   "id": "fd590e08",
   "metadata": {},
   "outputs": [],
   "source": [
    "filtered = latest_signals[\n",
    "    (latest_signals[\"Market Capitalization\"] > 1000) &\n",
    "    (latest_signals[\"ROCE Annual 3Yr Avg %\"] > 15) &\n",
    "    (latest_signals['Long Term Debt To Equity Annual'] < 0.5) &\n",
    "    (latest_signals['Promoter holding latest %'] > 60) &\n",
    "    (latest_signals['Promoter holding pledge percentage % Qtr'] < 0.01) &\n",
    "    (latest_signals['Net Profit Qtr Growth YoY %'] > 0) &\n",
    "    (latest_signals['Operating Revenue growth TTM %'] > 15) &\n",
    "    (latest_signals['Cash EPS 5Yr Growth %'] > 15) &\n",
    "    (latest_signals['EPS TTM Growth %'] > 15) &\n",
    "    (latest_signals[\"PEG TTM PE to Growth\"] > 0) &\n",
    "    (latest_signals[\"PEG TTM PE to Growth\"] < 2)\n",
    "]"
   ]
  },
  {
   "cell_type": "code",
   "execution_count": 31,
   "id": "9cc0afcf",
   "metadata": {},
   "outputs": [],
   "source": [
    "filtered.to_csv(\"my_data.csv\", index=False)"
   ]
  },
  {
   "cell_type": "code",
   "execution_count": 113,
   "id": "bd33fedc",
   "metadata": {},
   "outputs": [],
   "source": [
    "\n",
    "\n",
    "def send_dataframe_via_telegram(df, bot_token, chat_id, caption=\"DataFrame\"):\n",
    "    import matplotlib.pyplot as plt\n",
    "    import requests\n",
    "    \n",
    "    if df.empty:\n",
    "        telegram = requests.post(\n",
    "            f\"https://api.telegram.org/bot{bot_token}/sendMessage\",\n",
    "            data={\"chat_id\": chat_id, \"text\": f\"Nothing in {caption} list today.\"}\n",
    "        )\n",
    "        return telegram.json()\n",
    "    # Render DataFrame as image\n",
    "    fig, ax = plt.subplots(figsize=(6, 0.5 + 0.3*len(df)))  # auto height\n",
    "    ax.axis(\"off\")\n",
    "    table = ax.table(\n",
    "        cellText=df.values,\n",
    "        colLabels=df.columns,\n",
    "        cellLoc=\"center\",\n",
    "        loc=\"center\"\n",
    "    )\n",
    "    table.auto_set_font_size(False)\n",
    "    table.set_fontsize(10)\n",
    "    table.scale(1.2, 1.2)\n",
    "    \n",
    "    filename = \"table.png\"\n",
    "    plt.savefig(filename, bbox_inches=\"tight\")\n",
    "    plt.close()\n",
    "    \n",
    "    # Send to Telegram\n",
    "    url = f\"https://api.telegram.org/bot{bot_token}/sendPhoto\"\n",
    "    with open(filename, \"rb\") as f:\n",
    "        res = requests.post(url, data={\"chat_id\": chat_id, \"caption\": caption}, files={\"photo\": f})\n",
    "    return res.json()"
   ]
  },
  {
   "cell_type": "code",
   "execution_count": 22,
   "id": "e071d704",
   "metadata": {},
   "outputs": [
    {
     "data": {
      "text/plain": [
       "{'ok': True,\n",
       " 'result': {'message_id': 42,\n",
       "  'from': {'id': 7252728340,\n",
       "   'is_bot': True,\n",
       "   'first_name': 'DailyNseDataLoad',\n",
       "   'username': 'DpsStockAnalysis_bot'},\n",
       "  'chat': {'id': 5798902540,\n",
       "   'first_name': 'Daksh',\n",
       "   'last_name': 'Singh',\n",
       "   'type': 'private'},\n",
       "  'date': 1758689264,\n",
       "  'text': 'Nothing in Buy list today.'}}"
      ]
     },
     "execution_count": 22,
     "metadata": {},
     "output_type": "execute_result"
    }
   ],
   "source": [
    "\n",
    "send_dataframe_via_telegram(filtered[[\"Stock Name\"]], BOT_TOKEN, CHAT_ID, \"Buy\")"
   ]
  },
  {
   "cell_type": "markdown",
   "id": "d0e193ce",
   "metadata": {},
   "source": [
    "## Sell List\n",
    "---"
   ]
  },
  {
   "cell_type": "code",
   "execution_count": 80,
   "id": "d9af6993",
   "metadata": {},
   "outputs": [],
   "source": [
    "\n",
    "# Step 1: Create holdings DataFrame (from your response)\n",
    "holdings_response = groww.get_holdings_for_user(timeout=5)\n"
   ]
  },
  {
   "cell_type": "code",
   "execution_count": 92,
   "id": "25913599",
   "metadata": {},
   "outputs": [],
   "source": [
    "holdings = pd.DataFrame(holdings_response[\"holdings\"])\n",
    "holdings = holdings[[\"isin\", \"trading_symbol\", \"quantity\", \"average_price\"]]\n",
    "\n",
    "instruments_priority = instruments_df.copy()\n",
    "instruments_priority['priority'] = instruments_priority['exchange'].apply(lambda x: 1 if x=='NSE' else 2)\n",
    "instruments_unique = instruments_priority.sort_values(['trading_symbol','priority']).drop_duplicates('trading_symbol', keep='first')\n",
    "\n",
    "holdings = holdings.merge(\n",
    "    instruments_unique[['isin', 'exchange']],\n",
    "    on='isin',\n",
    "    how='left'\n",
    ")\n"
   ]
  },
  {
   "cell_type": "code",
   "execution_count": 93,
   "id": "edbedd46",
   "metadata": {},
   "outputs": [],
   "source": [
    "# Columns from get_quote you want to add\n",
    "quote_cols = [\n",
    "    \"bid_quantity\", \"bid_price\", \"day_change\", \"day_change_perc\",\n",
    "    \"upper_circuit_limit\", \"lower_circuit_limit\", \"last_price\", \"high_trade_range\",\n",
    "    \"low_trade_range\", \"volume\", \"week_52_high\", \"week_52_low\", \"market_cap\"\n",
    "]\n",
    "\n",
    "# Initialize empty dict to store quote data\n",
    "quotes_data = {col: [] for col in quote_cols}\n",
    "\n",
    "# Loop through holdings\n",
    "for idx, row in holdings.iterrows():\n",
    "    try:\n",
    "        quote_response = groww.get_quote(\n",
    "            exchange=row[\"exchange\"],  # NSE or BSE\n",
    "            segment=groww.SEGMENT_CASH,\n",
    "            trading_symbol=row[\"trading_symbol\"]\n",
    "        )\n",
    "        \n",
    "        # Add data to quotes_data dict\n",
    "        for col in quote_cols:\n",
    "            # Handle nested OHLC if needed\n",
    "            if col in quote_response:\n",
    "                quotes_data[col].append(quote_response[col])\n",
    "            else:\n",
    "                quotes_data[col].append(None)\n",
    "        \n",
    "        # Optional: small delay to avoid API limits\n",
    "        time.sleep(0.1)\n",
    "\n",
    "    except Exception as e:\n",
    "        print(f\"Error fetching {row['trading_symbol']}: {e}\")\n",
    "        for col in quote_cols:\n",
    "            quotes_data[col].append(None)\n",
    "\n",
    "# Convert quotes_data to DataFrame\n",
    "quotes_df = pd.DataFrame(quotes_data)\n",
    "\n",
    "# Concatenate with holdings\n",
    "holdings = pd.concat([holdings.reset_index(drop=True), quotes_df], axis=1)\n",
    "\n"
   ]
  },
  {
   "cell_type": "code",
   "execution_count": 95,
   "id": "4bde1d25",
   "metadata": {},
   "outputs": [],
   "source": [
    "holdings[\"ltp\"] = holdings[\"last_price\"]  # use last_price as LTP\n",
    "holdings[\"current_value\"] = holdings[\"quantity\"] * holdings[\"ltp\"]\n",
    "holdings[\"pnl_percent\"] = (holdings[\"ltp\"] - holdings[\"average_price\"]) / holdings[\"average_price\"] * 100\n",
    "holdings[\"day_gain\"] = holdings[\"quantity\"] * holdings[\"day_change\"]"
   ]
  },
  {
   "cell_type": "code",
   "execution_count": 97,
   "id": "4b016793",
   "metadata": {},
   "outputs": [],
   "source": [
    "holdings = pd.merge(\n",
    "    holdings,\n",
    "    allstocks,\n",
    "    left_on=\"isin\",         # column name in latest_signals\n",
    "    right_on=\"ISIN\",     # column name in allstocks\n",
    "    how=\"left\"           # inner join (only matching tickers)\n",
    ")"
   ]
  },
  {
   "cell_type": "code",
   "execution_count": 100,
   "id": "33f7a5fd",
   "metadata": {},
   "outputs": [],
   "source": [
    "holdings = pd.merge(\n",
    "    holdings,\n",
    "    latest_supertrend[[\"Ticker\",\"SuperTrend\",\"Trend\"]],\n",
    "    left_on=\"trading_symbol\",         # column name in latest_signals\n",
    "    right_on=\"Ticker\",         \n",
    "    how=\"left\"           # inner join (only matching tickers)\n",
    ")"
   ]
  },
  {
   "cell_type": "code",
   "execution_count": 118,
   "id": "0de1748b",
   "metadata": {},
   "outputs": [],
   "source": [
    "# Restrict \"Stock Name\" to first 2 words\n",
    "holdings[\"Stock Name\"] = holdings[\"Stock Name\"].str.split().str[:2].str.join(\" \")\n",
    "# Further restrict to first word if length > 20\n",
    "holdings[\"Stock Name\"] = holdings[\"Stock Name\"].apply(lambda x: x.split()[0] if len(x) > 15 else x)\n"
   ]
  },
  {
   "cell_type": "code",
   "execution_count": 119,
   "id": "049a8826",
   "metadata": {},
   "outputs": [],
   "source": [
    "# Select specific columns and filter rows where Trend is False\n",
    "sell_list = holdings.loc[\n",
    "    holdings[\"Trend\"] == False,\n",
    "    [\"Stock Name\", \"current_value\", \"day_change_perc\", \"pnl_percent\"]\n",
    "]\n",
    "\n",
    "# Format numeric columns\n",
    "sell_list[\"current_value\"] = sell_list[\"current_value\"].astype(int)\n",
    "sell_list[\"day_change_perc\"] = sell_list[\"day_change_perc\"].round(2)\n",
    "sell_list[\"pnl_percent\"] = sell_list[\"pnl_percent\"].round(2)"
   ]
  },
  {
   "cell_type": "code",
   "execution_count": 120,
   "id": "31e3ebf4",
   "metadata": {},
   "outputs": [
    {
     "name": "stdout",
     "output_type": "stream",
     "text": [
      "       Stock Name  current_value  day_change_perc  pnl_percent\n",
      "6   Lloyds Metals        1874843            -0.63        25.20\n",
      "8        Narayana        1461946            -0.26        -2.25\n",
      "10     Chaman Lal         411109            -0.15       -17.66\n",
      "12   HPL Electric        1243720            -1.41       -16.93\n"
     ]
    }
   ],
   "source": [
    "print(sell_list)"
   ]
  },
  {
   "cell_type": "code",
   "execution_count": null,
   "id": "361df4ae",
   "metadata": {},
   "outputs": [
    {
     "name": "stderr",
     "output_type": "stream",
     "text": [
      "DEBUG:matplotlib:matplotlib data path: /home/vscode/.local/lib/python3.11/site-packages/matplotlib/mpl-data\n",
      "DEBUG:matplotlib:CONFIGDIR=/home/vscode/.config/matplotlib\n",
      "DEBUG:matplotlib:interactive is False\n",
      "DEBUG:matplotlib:platform is linux\n",
      "DEBUG:matplotlib:CACHEDIR=/home/vscode/.cache/matplotlib\n",
      "DEBUG:matplotlib.font_manager:Using fontManager instance from /home/vscode/.cache/matplotlib/fontlist-v390.json\n",
      "DEBUG:matplotlib.pyplot:Loaded backend module://matplotlib_inline.backend_inline version unknown.\n",
      "DEBUG:matplotlib.pyplot:Loaded backend module://matplotlib_inline.backend_inline version unknown.\n",
      "DEBUG:matplotlib.font_manager:findfont: Matching sans\\-serif:style=normal:variant=normal:weight=normal:stretch=normal:size=10.0.\n",
      "DEBUG:matplotlib.font_manager:findfont: score(FontEntry(fname='/home/vscode/.local/lib/python3.11/site-packages/matplotlib/mpl-data/fonts/ttf/DejaVuSansMono-Oblique.ttf', name='DejaVu Sans Mono', style='oblique', variant='normal', weight=400, stretch='normal', size='scalable')) = 11.05\n",
      "DEBUG:matplotlib.font_manager:findfont: score(FontEntry(fname='/home/vscode/.local/lib/python3.11/site-packages/matplotlib/mpl-data/fonts/ttf/STIXSizFourSymReg.ttf', name='STIXSizeFourSym', style='normal', variant='normal', weight=400, stretch='normal', size='scalable')) = 10.05\n",
      "DEBUG:matplotlib.font_manager:findfont: score(FontEntry(fname='/home/vscode/.local/lib/python3.11/site-packages/matplotlib/mpl-data/fonts/ttf/DejaVuSansMono.ttf', name='DejaVu Sans Mono', style='normal', variant='normal', weight=400, stretch='normal', size='scalable')) = 10.05\n",
      "DEBUG:matplotlib.font_manager:findfont: score(FontEntry(fname='/home/vscode/.local/lib/python3.11/site-packages/matplotlib/mpl-data/fonts/ttf/DejaVuSans-Bold.ttf', name='DejaVu Sans', style='normal', variant='normal', weight=700, stretch='normal', size='scalable')) = 0.33499999999999996\n",
      "DEBUG:matplotlib.font_manager:findfont: score(FontEntry(fname='/home/vscode/.local/lib/python3.11/site-packages/matplotlib/mpl-data/fonts/ttf/cmss10.ttf', name='cmss10', style='normal', variant='normal', weight=400, stretch='normal', size='scalable')) = 10.05\n",
      "DEBUG:matplotlib.font_manager:findfont: score(FontEntry(fname='/home/vscode/.local/lib/python3.11/site-packages/matplotlib/mpl-data/fonts/ttf/STIXGeneralBolIta.ttf', name='STIXGeneral', style='italic', variant='normal', weight=700, stretch='normal', size='scalable')) = 11.335\n",
      "DEBUG:matplotlib.font_manager:findfont: score(FontEntry(fname='/home/vscode/.local/lib/python3.11/site-packages/matplotlib/mpl-data/fonts/ttf/STIXNonUniBolIta.ttf', name='STIXNonUnicode', style='italic', variant='normal', weight=700, stretch='normal', size='scalable')) = 11.335\n",
      "DEBUG:matplotlib.font_manager:findfont: score(FontEntry(fname='/home/vscode/.local/lib/python3.11/site-packages/matplotlib/mpl-data/fonts/ttf/STIXGeneralBol.ttf', name='STIXGeneral', style='normal', variant='normal', weight=700, stretch='normal', size='scalable')) = 10.335\n",
      "DEBUG:matplotlib.font_manager:findfont: score(FontEntry(fname='/home/vscode/.local/lib/python3.11/site-packages/matplotlib/mpl-data/fonts/ttf/STIXGeneralItalic.ttf', name='STIXGeneral', style='italic', variant='normal', weight=400, stretch='normal', size='scalable')) = 11.05\n",
      "DEBUG:matplotlib.font_manager:findfont: score(FontEntry(fname='/home/vscode/.local/lib/python3.11/site-packages/matplotlib/mpl-data/fonts/ttf/STIXNonUni.ttf', name='STIXNonUnicode', style='normal', variant='normal', weight=400, stretch='normal', size='scalable')) = 10.05\n",
      "DEBUG:matplotlib.font_manager:findfont: score(FontEntry(fname='/home/vscode/.local/lib/python3.11/site-packages/matplotlib/mpl-data/fonts/ttf/DejaVuSans.ttf', name='DejaVu Sans', style='normal', variant='normal', weight=400, stretch='normal', size='scalable')) = 0.05\n",
      "DEBUG:matplotlib.font_manager:findfont: score(FontEntry(fname='/home/vscode/.local/lib/python3.11/site-packages/matplotlib/mpl-data/fonts/ttf/cmr10.ttf', name='cmr10', style='normal', variant='normal', weight=400, stretch='normal', size='scalable')) = 10.05\n",
      "DEBUG:matplotlib.font_manager:findfont: score(FontEntry(fname='/home/vscode/.local/lib/python3.11/site-packages/matplotlib/mpl-data/fonts/ttf/cmtt10.ttf', name='cmtt10', style='normal', variant='normal', weight=400, stretch='normal', size='scalable')) = 10.05\n",
      "DEBUG:matplotlib.font_manager:findfont: score(FontEntry(fname='/home/vscode/.local/lib/python3.11/site-packages/matplotlib/mpl-data/fonts/ttf/DejaVuSerif.ttf', name='DejaVu Serif', style='normal', variant='normal', weight=400, stretch='normal', size='scalable')) = 10.05\n",
      "DEBUG:matplotlib.font_manager:findfont: score(FontEntry(fname='/home/vscode/.local/lib/python3.11/site-packages/matplotlib/mpl-data/fonts/ttf/STIXSizFiveSymReg.ttf', name='STIXSizeFiveSym', style='normal', variant='normal', weight=400, stretch='normal', size='scalable')) = 10.05\n",
      "DEBUG:matplotlib.font_manager:findfont: score(FontEntry(fname='/home/vscode/.local/lib/python3.11/site-packages/matplotlib/mpl-data/fonts/ttf/cmsy10.ttf', name='cmsy10', style='normal', variant='normal', weight=400, stretch='normal', size='scalable')) = 10.05\n",
      "DEBUG:matplotlib.font_manager:findfont: score(FontEntry(fname='/home/vscode/.local/lib/python3.11/site-packages/matplotlib/mpl-data/fonts/ttf/DejaVuSerif-Bold.ttf', name='DejaVu Serif', style='normal', variant='normal', weight=700, stretch='normal', size='scalable')) = 10.335\n",
      "DEBUG:matplotlib.font_manager:findfont: score(FontEntry(fname='/home/vscode/.local/lib/python3.11/site-packages/matplotlib/mpl-data/fonts/ttf/STIXSizThreeSymBol.ttf', name='STIXSizeThreeSym', style='normal', variant='normal', weight=700, stretch='normal', size='scalable')) = 10.335\n",
      "DEBUG:matplotlib.font_manager:findfont: score(FontEntry(fname='/home/vscode/.local/lib/python3.11/site-packages/matplotlib/mpl-data/fonts/ttf/DejaVuSerifDisplay.ttf', name='DejaVu Serif Display', style='normal', variant='normal', weight=400, stretch='normal', size='scalable')) = 10.05\n",
      "DEBUG:matplotlib.font_manager:findfont: score(FontEntry(fname='/home/vscode/.local/lib/python3.11/site-packages/matplotlib/mpl-data/fonts/ttf/cmmi10.ttf', name='cmmi10', style='normal', variant='normal', weight=400, stretch='normal', size='scalable')) = 10.05\n",
      "DEBUG:matplotlib.font_manager:findfont: score(FontEntry(fname='/home/vscode/.local/lib/python3.11/site-packages/matplotlib/mpl-data/fonts/ttf/DejaVuSerif-BoldItalic.ttf', name='DejaVu Serif', style='italic', variant='normal', weight=700, stretch='normal', size='scalable')) = 11.335\n",
      "DEBUG:matplotlib.font_manager:findfont: score(FontEntry(fname='/home/vscode/.local/lib/python3.11/site-packages/matplotlib/mpl-data/fonts/ttf/DejaVuSerif-Italic.ttf', name='DejaVu Serif', style='italic', variant='normal', weight=400, stretch='normal', size='scalable')) = 11.05\n",
      "DEBUG:matplotlib.font_manager:findfont: score(FontEntry(fname='/home/vscode/.local/lib/python3.11/site-packages/matplotlib/mpl-data/fonts/ttf/STIXSizTwoSymReg.ttf', name='STIXSizeTwoSym', style='normal', variant='normal', weight=400, stretch='normal', size='scalable')) = 10.05\n",
      "DEBUG:matplotlib.font_manager:findfont: score(FontEntry(fname='/home/vscode/.local/lib/python3.11/site-packages/matplotlib/mpl-data/fonts/ttf/DejaVuSansMono-Bold.ttf', name='DejaVu Sans Mono', style='normal', variant='normal', weight=700, stretch='normal', size='scalable')) = 10.335\n",
      "DEBUG:matplotlib.font_manager:findfont: score(FontEntry(fname='/home/vscode/.local/lib/python3.11/site-packages/matplotlib/mpl-data/fonts/ttf/DejaVuSans-BoldOblique.ttf', name='DejaVu Sans', style='oblique', variant='normal', weight=700, stretch='normal', size='scalable')) = 1.335\n",
      "DEBUG:matplotlib.font_manager:findfont: score(FontEntry(fname='/home/vscode/.local/lib/python3.11/site-packages/matplotlib/mpl-data/fonts/ttf/STIXSizThreeSymReg.ttf', name='STIXSizeThreeSym', style='normal', variant='normal', weight=400, stretch='normal', size='scalable')) = 10.05\n",
      "DEBUG:matplotlib.font_manager:findfont: score(FontEntry(fname='/home/vscode/.local/lib/python3.11/site-packages/matplotlib/mpl-data/fonts/ttf/STIXNonUniIta.ttf', name='STIXNonUnicode', style='italic', variant='normal', weight=400, stretch='normal', size='scalable')) = 11.05\n",
      "DEBUG:matplotlib.font_manager:findfont: score(FontEntry(fname='/home/vscode/.local/lib/python3.11/site-packages/matplotlib/mpl-data/fonts/ttf/cmex10.ttf', name='cmex10', style='normal', variant='normal', weight=400, stretch='normal', size='scalable')) = 10.05\n",
      "DEBUG:matplotlib.font_manager:findfont: score(FontEntry(fname='/home/vscode/.local/lib/python3.11/site-packages/matplotlib/mpl-data/fonts/ttf/STIXSizOneSymReg.ttf', name='STIXSizeOneSym', style='normal', variant='normal', weight=400, stretch='normal', size='scalable')) = 10.05\n",
      "DEBUG:matplotlib.font_manager:findfont: score(FontEntry(fname='/home/vscode/.local/lib/python3.11/site-packages/matplotlib/mpl-data/fonts/ttf/cmb10.ttf', name='cmb10', style='normal', variant='normal', weight=400, stretch='normal', size='scalable')) = 10.05\n",
      "DEBUG:matplotlib.font_manager:findfont: score(FontEntry(fname='/home/vscode/.local/lib/python3.11/site-packages/matplotlib/mpl-data/fonts/ttf/STIXSizOneSymBol.ttf', name='STIXSizeOneSym', style='normal', variant='normal', weight=700, stretch='normal', size='scalable')) = 10.335\n",
      "DEBUG:matplotlib.font_manager:findfont: score(FontEntry(fname='/home/vscode/.local/lib/python3.11/site-packages/matplotlib/mpl-data/fonts/ttf/DejaVuSansMono-BoldOblique.ttf', name='DejaVu Sans Mono', style='oblique', variant='normal', weight=700, stretch='normal', size='scalable')) = 11.335\n",
      "DEBUG:matplotlib.font_manager:findfont: score(FontEntry(fname='/home/vscode/.local/lib/python3.11/site-packages/matplotlib/mpl-data/fonts/ttf/DejaVuSans-Oblique.ttf', name='DejaVu Sans', style='oblique', variant='normal', weight=400, stretch='normal', size='scalable')) = 1.05\n",
      "DEBUG:matplotlib.font_manager:findfont: score(FontEntry(fname='/home/vscode/.local/lib/python3.11/site-packages/matplotlib/mpl-data/fonts/ttf/STIXSizTwoSymBol.ttf', name='STIXSizeTwoSym', style='normal', variant='normal', weight=700, stretch='normal', size='scalable')) = 10.335\n",
      "DEBUG:matplotlib.font_manager:findfont: score(FontEntry(fname='/home/vscode/.local/lib/python3.11/site-packages/matplotlib/mpl-data/fonts/ttf/STIXNonUniBol.ttf', name='STIXNonUnicode', style='normal', variant='normal', weight=700, stretch='normal', size='scalable')) = 10.335\n",
      "DEBUG:matplotlib.font_manager:findfont: score(FontEntry(fname='/home/vscode/.local/lib/python3.11/site-packages/matplotlib/mpl-data/fonts/ttf/DejaVuSansDisplay.ttf', name='DejaVu Sans Display', style='normal', variant='normal', weight=400, stretch='normal', size='scalable')) = 10.05\n",
      "DEBUG:matplotlib.font_manager:findfont: score(FontEntry(fname='/home/vscode/.local/lib/python3.11/site-packages/matplotlib/mpl-data/fonts/ttf/STIXGeneral.ttf', name='STIXGeneral', style='normal', variant='normal', weight=400, stretch='normal', size='scalable')) = 10.05\n",
      "DEBUG:matplotlib.font_manager:findfont: score(FontEntry(fname='/home/vscode/.local/lib/python3.11/site-packages/matplotlib/mpl-data/fonts/ttf/STIXSizFourSymBol.ttf', name='STIXSizeFourSym', style='normal', variant='normal', weight=700, stretch='normal', size='scalable')) = 10.335\n",
      "DEBUG:matplotlib.font_manager:findfont: score(FontEntry(fname='/usr/share/fonts/truetype/dejavu/DejaVuSansMono.ttf', name='DejaVu Sans Mono', style='normal', variant='normal', weight=400, stretch='normal', size='scalable')) = 10.05\n",
      "DEBUG:matplotlib.font_manager:findfont: score(FontEntry(fname='/usr/share/fonts/truetype/dejavu/DejaVuSans.ttf', name='DejaVu Sans', style='normal', variant='normal', weight=400, stretch='normal', size='scalable')) = 0.05\n",
      "DEBUG:matplotlib.font_manager:findfont: score(FontEntry(fname='/usr/share/fonts/truetype/dejavu/DejaVuSans-Bold.ttf', name='DejaVu Sans', style='normal', variant='normal', weight=700, stretch='normal', size='scalable')) = 0.33499999999999996\n",
      "DEBUG:matplotlib.font_manager:findfont: score(FontEntry(fname='/usr/share/fonts/truetype/dejavu/DejaVuSansMono-Oblique.ttf', name='DejaVu Sans Mono', style='oblique', variant='normal', weight=400, stretch='normal', size='scalable')) = 11.05\n",
      "DEBUG:matplotlib.font_manager:findfont: score(FontEntry(fname='/usr/share/fonts/truetype/dejavu/DejaVuSerif.ttf', name='DejaVu Serif', style='normal', variant='normal', weight=400, stretch='normal', size='scalable')) = 10.05\n",
      "DEBUG:matplotlib.font_manager:findfont: score(FontEntry(fname='/usr/share/fonts/truetype/dejavu/DejaVuSansMono-BoldOblique.ttf', name='DejaVu Sans Mono', style='oblique', variant='normal', weight=700, stretch='normal', size='scalable')) = 11.335\n",
      "DEBUG:matplotlib.font_manager:findfont: score(FontEntry(fname='/usr/share/fonts/truetype/dejavu/DejaVuSerif-Bold.ttf', name='DejaVu Serif', style='normal', variant='normal', weight=700, stretch='normal', size='scalable')) = 10.335\n",
      "DEBUG:matplotlib.font_manager:findfont: score(FontEntry(fname='/usr/share/fonts/truetype/dejavu/DejaVuSansMono-Bold.ttf', name='DejaVu Sans Mono', style='normal', variant='normal', weight=700, stretch='normal', size='scalable')) = 10.335\n",
      "DEBUG:matplotlib.font_manager:findfont: Matching sans\\-serif:style=normal:variant=normal:weight=normal:stretch=normal:size=10.0 to DejaVu Sans ('/home/vscode/.local/lib/python3.11/site-packages/matplotlib/mpl-data/fonts/ttf/DejaVuSans.ttf') with score of 0.050000.\n"
     ]
    },
    {
     "data": {
      "text/plain": [
       "{'ok': True,\n",
       " 'result': {'message_id': 47,\n",
       "  'from': {'id': 7252728340,\n",
       "   'is_bot': True,\n",
       "   'first_name': 'DailyNseDataLoad',\n",
       "   'username': 'DpsStockAnalysis_bot'},\n",
       "  'chat': {'id': 5798902540,\n",
       "   'first_name': 'Daksh',\n",
       "   'last_name': 'Singh',\n",
       "   'type': 'private'},\n",
       "  'date': 1758862641,\n",
       "  'photo': [{'file_id': 'AgACAgUAAxkDAAMvaNYdMWdhO7xjM5DxblSHi4J-SRMAAh3DMRt5XbBWoW_zJUGc96QBAAMCAANzAAM2BA',\n",
       "    'file_unique_id': 'AQADHcMxG3ldsFZ4',\n",
       "    'file_size': 787,\n",
       "    'width': 90,\n",
       "    'height': 23},\n",
       "   {'file_id': 'AgACAgUAAxkDAAMvaNYdMWdhO7xjM5DxblSHi4J-SRMAAh3DMRt5XbBWoW_zJUGc96QBAAMCAANtAAM2BA',\n",
       "    'file_unique_id': 'AQADHcMxG3ldsFZy',\n",
       "    'file_size': 8576,\n",
       "    'width': 320,\n",
       "    'height': 83},\n",
       "   {'file_id': 'AgACAgUAAxkDAAMvaNYdMWdhO7xjM5DxblSHi4J-SRMAAh3DMRt5XbBWoW_zJUGc96QBAAMCAAN4AAM2BA',\n",
       "    'file_unique_id': 'AQADHcMxG3ldsFZ9',\n",
       "    'file_size': 18831,\n",
       "    'width': 577,\n",
       "    'height': 150}],\n",
       "  'caption': 'Buy'}}"
      ]
     },
     "execution_count": 114,
     "metadata": {},
     "output_type": "execute_result"
    }
   ],
   "source": [
    "send_dataframe_via_telegram(sell_list, BOT_TOKEN, CHAT_ID, \"Sell\")"
   ]
  },
  {
   "cell_type": "code",
   "execution_count": 106,
   "id": "560260b0",
   "metadata": {},
   "outputs": [],
   "source": [
    "holdings.to_csv(\"my_data.csv\", index=False)"
   ]
  },
  {
   "cell_type": "code",
   "execution_count": null,
   "id": "cd5cef4d",
   "metadata": {},
   "outputs": [],
   "source": []
  }
 ],
 "metadata": {
  "kernelspec": {
   "display_name": "Python 3",
   "language": "python",
   "name": "python3"
  },
  "language_info": {
   "codemirror_mode": {
    "name": "ipython",
    "version": 3
   },
   "file_extension": ".py",
   "mimetype": "text/x-python",
   "name": "python",
   "nbconvert_exporter": "python",
   "pygments_lexer": "ipython3",
   "version": "3.11.13"
  }
 },
 "nbformat": 4,
 "nbformat_minor": 5
}
